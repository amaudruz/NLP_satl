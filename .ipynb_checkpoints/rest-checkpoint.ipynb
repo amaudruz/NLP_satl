{
 "cells": [
  {
   "cell_type": "code",
   "execution_count": 15,
   "metadata": {},
   "outputs": [],
   "source": [
    "lm = get_language_model(AWD_LSTM, len(vocab))"
   ]
  },
  {
   "cell_type": "code",
   "execution_count": 16,
   "metadata": {},
   "outputs": [
    {
     "data": {
      "text/plain": [
       "SequentialRNN(\n",
       "  (0): AWD_LSTM(\n",
       "    (encoder): Embedding(60002, 400, padding_idx=1)\n",
       "    (encoder_dp): EmbeddingDropout(\n",
       "      (emb): Embedding(60002, 400, padding_idx=1)\n",
       "    )\n",
       "    (rnns): ModuleList(\n",
       "      (0): WeightDropout(\n",
       "        (module): LSTM(400, 1150, batch_first=True)\n",
       "      )\n",
       "      (1): WeightDropout(\n",
       "        (module): LSTM(1150, 1150, batch_first=True)\n",
       "      )\n",
       "      (2): WeightDropout(\n",
       "        (module): LSTM(1150, 400, batch_first=True)\n",
       "      )\n",
       "    )\n",
       "    (input_dp): RNNDropout()\n",
       "    (hidden_dps): ModuleList(\n",
       "      (0): RNNDropout()\n",
       "      (1): RNNDropout()\n",
       "      (2): RNNDropout()\n",
       "    )\n",
       "  )\n",
       "  (1): LinearDecoder(\n",
       "    (decoder): Linear(in_features=400, out_features=60002, bias=True)\n",
       "    (output_dp): RNNDropout()\n",
       "  )\n",
       ")"
      ]
     },
     "execution_count": 16,
     "metadata": {},
     "output_type": "execute_result"
    }
   ],
   "source": [
    "lm"
   ]
  },
  {
   "cell_type": "code",
   "execution_count": 17,
   "metadata": {},
   "outputs": [],
   "source": [
    "model_path = untar_data('https://s3.amazonaws.com/fast-ai-modelzoo/wt103-1', data=False)"
   ]
  },
  {
   "cell_type": "code",
   "execution_count": 18,
   "metadata": {},
   "outputs": [],
   "source": [
    "fnames = [list(model_path.glob(f'*.{ext}'))[0] for ext in ['pth', 'pkl']]"
   ]
  },
  {
   "cell_type": "code",
   "execution_count": 19,
   "metadata": {},
   "outputs": [],
   "source": [
    "old_itos = pickle.load(open(fnames[1], 'rb'))\n",
    "old_stoi = {v:k for k,v in enumerate(old_itos)}"
   ]
  },
  {
   "cell_type": "code",
   "execution_count": 20,
   "metadata": {},
   "outputs": [],
   "source": [
    "wgts = torch.load(fnames[0], map_location=lambda storage, loc: storage)"
   ]
  },
  {
   "cell_type": "code",
   "execution_count": 21,
   "metadata": {},
   "outputs": [
    {
     "data": {
      "text/plain": [
       "odict_keys(['0.encoder.weight', '0.encoder_dp.emb.weight', '0.rnns.0.weight_hh_l0_raw', '0.rnns.0.module.weight_ih_l0', '0.rnns.0.module.weight_hh_l0', '0.rnns.0.module.bias_ih_l0', '0.rnns.0.module.bias_hh_l0', '0.rnns.1.weight_hh_l0_raw', '0.rnns.1.module.weight_ih_l0', '0.rnns.1.module.weight_hh_l0', '0.rnns.1.module.bias_ih_l0', '0.rnns.1.module.bias_hh_l0', '0.rnns.2.weight_hh_l0_raw', '0.rnns.2.module.weight_ih_l0', '0.rnns.2.module.weight_hh_l0', '0.rnns.2.module.bias_ih_l0', '0.rnns.2.module.bias_hh_l0', '1.decoder.weight', '1.decoder.bias'])"
      ]
     },
     "execution_count": 21,
     "metadata": {},
     "output_type": "execute_result"
    }
   ],
   "source": [
    "wgts.keys()"
   ]
  },
  {
   "cell_type": "code",
   "execution_count": 22,
   "metadata": {},
   "outputs": [],
   "source": [
    "wgts = convert_weights(wgts, old_stoi, vocab.itos)"
   ]
  },
  {
   "cell_type": "code",
   "execution_count": 23,
   "metadata": {},
   "outputs": [
    {
     "data": {
      "text/plain": [
       "('0.encoder.weight', Parameter containing:\n",
       " tensor([[-0.0825, -0.0992, -0.0490,  ...,  0.0177, -0.0033,  0.0554],\n",
       "         [-0.0285, -0.0871, -0.0559,  ..., -0.0675, -0.0639, -0.0579],\n",
       "         [ 0.0404,  0.0203,  0.0496,  ..., -0.0570,  0.0078,  0.0426],\n",
       "         ...,\n",
       "         [-0.0593,  0.0399,  0.0047,  ...,  0.0030,  0.0478,  0.0297],\n",
       "         [ 0.0198,  0.0324, -0.0988,  ...,  0.0287, -0.0798,  0.0871],\n",
       "         [ 0.0849, -0.0758, -0.0118,  ...,  0.0830, -0.0535, -0.0667]],\n",
       "        requires_grad=True))"
      ]
     },
     "execution_count": 23,
     "metadata": {},
     "output_type": "execute_result"
    }
   ],
   "source": [
    "list(lm.named_parameters())[0]"
   ]
  },
  {
   "cell_type": "code",
   "execution_count": 24,
   "metadata": {},
   "outputs": [
    {
     "data": {
      "text/plain": [
       "tensor(5.6770e-06, grad_fn=<MeanBackward0>)"
      ]
     },
     "execution_count": 24,
     "metadata": {},
     "output_type": "execute_result"
    }
   ],
   "source": [
    "list(lm.named_parameters())[0][1].mean()"
   ]
  },
  {
   "cell_type": "code",
   "execution_count": 25,
   "metadata": {},
   "outputs": [
    {
     "data": {
      "text/plain": [
       "IncompatibleKeys(missing_keys=[], unexpected_keys=[])"
      ]
     },
     "execution_count": 25,
     "metadata": {},
     "output_type": "execute_result"
    }
   ],
   "source": [
    "lm.load_state_dict(wgts)"
   ]
  },
  {
   "cell_type": "code",
   "execution_count": 26,
   "metadata": {},
   "outputs": [
    {
     "data": {
      "text/plain": [
       "('0.encoder.weight', Parameter containing:\n",
       " tensor([[ 0.2356, -0.0249,  0.1637,  ..., -0.0054, -0.0643, -0.1600],\n",
       "         [ 0.2356, -0.0249,  0.1637,  ..., -0.0054, -0.0643, -0.1600],\n",
       "         [ 0.2356, -0.0249,  0.1637,  ..., -0.0054, -0.0643, -0.1600],\n",
       "         ...,\n",
       "         [ 0.1646, -0.0526,  0.3163,  ...,  0.1312, -0.0608, -0.1023],\n",
       "         [ 0.2014,  0.0848,  0.1379,  ..., -0.0200, -0.1992, -0.1391],\n",
       "         [ 0.1610, -0.2437,  0.1706,  ..., -0.1507, -0.0739, -0.2293]],\n",
       "        requires_grad=True))"
      ]
     },
     "execution_count": 26,
     "metadata": {},
     "output_type": "execute_result"
    }
   ],
   "source": [
    "list(lm.named_parameters())[0]"
   ]
  },
  {
   "cell_type": "code",
   "execution_count": 27,
   "metadata": {},
   "outputs": [
    {
     "data": {
      "text/plain": [
       "tensor(0.5103)"
      ]
     },
     "execution_count": 27,
     "metadata": {},
     "output_type": "execute_result"
    }
   ],
   "source": [
    "((list(lm.named_parameters())[0][1] == list(lm.named_parameters())[0][1][0, :])).type(FloatTensor).mean()"
   ]
  },
  {
   "cell_type": "code",
   "execution_count": 38,
   "metadata": {},
   "outputs": [],
   "source": [
    "def train_epochs(epochs, model, iterator_train, loss_function, optimizer, lr=0.2, iterator_valid = None, show_info=True, **kwargs) :\n",
    "    \n",
    "    losses = []\n",
    "    opt = optimizer(model.parameters(), lr=lr)\n",
    "    \n",
    "    model.cuda()\n",
    "    for i in range(epochs) :\n",
    "        train_loss = 0\n",
    "        counter = 0\n",
    "        accuracy = 0\n",
    "        model.train()\n",
    "        batches = tqdm(iterator_train, leave=False,\n",
    "                     total=len(iterator_train), desc=f'Epoch {i}')\n",
    "        for batch in batches :\n",
    "            x = batch.text\n",
    "            y = batch.target\n",
    "            x = x.cuda()\n",
    "            y = y.cuda()\n",
    "            pred = model(x.transpose(0,1))\n",
    "            loss = loss_function(pred, y.transpose(0,1))\n",
    "            train_loss += loss\n",
    "            counter += 1\n",
    "            accuracy += (torch.argmax(pred, dim=2) == y.transpose(0,1)).type(torch.FloatTensor).mean() \n",
    "            loss.backward()\n",
    "            opt.step()\n",
    "            opt.zero_grad()\n",
    "        train_loss = train_loss/float(counter)\n",
    "        accuracy = accuracy/float(counter)\n",
    "        \n",
    "        if iterator_valid is not None :\n",
    "            counter_v = 0\n",
    "\n",
    "            model.eval()\n",
    "            valid_loss = 0\n",
    "            accuracy_valid = 0\n",
    "            for batch in iterator_valid :\n",
    "                x = batch.text\n",
    "                y = batch.target\n",
    "                x = x.cuda()\n",
    "                y = y.cuda()\n",
    "                pred = model(x.transpose(0,1))\n",
    "                loss = loss_function(pred, y.transpose(0,1))\n",
    "                valid_loss += loss\n",
    "                accuracy_valid += (torch.argmax(pred, dim=2) == y.transpose(0,1)).type(torch.FloatTensor).mean() \n",
    "                counter_v+= 1\n",
    "            valid_loss = train_loss/float(counter_v)\n",
    "            accuracy_valid = accuracy_valid/float(counter_v)\n",
    "            losses.append(valid_loss)\n",
    "            if show_info:\n",
    "                print(\"Epoch {:.0f} training loss : {:.3f}, train accuracy : {:.3f}, validation loss : {:.3f}, val accuracy : {:.3f}\".format(i, train_loss, accuracy, valid_loss, accuracy_valid))\n",
    "        \n",
    "        else :\n",
    "            if show_info :\n",
    "                print(\"Epoch {:.0f} training loss : {:.3f}, train accuracy : {:.3f}\").format(i, train_loss, accuracy)\n",
    "    return losses"
   ]
  },
  {
   "cell_type": "markdown",
   "metadata": {},
   "source": [
    "### Callbacks"
   ]
  },
  {
   "cell_type": "markdown",
   "metadata": {},
   "source": [
    "In order to modifiy the training loop without having to write another one eah time, we will use callbacks. A callback is is an object that will be called at different stages of the taining loop. This allows a to modify the training in a multitude of ways (hyper paramenter scheduling/recording, regularization techniques etc) and as mentionned, creating another training loop comes down to giving another set of callbacks. For more information refer to  [Fast.ai — An infinitely customizable training loop with Sylvain Gugger](https://www.youtube.com/watch?v=roc-dOSeehM)"
   ]
  },
  {
   "cell_type": "markdown",
   "metadata": {},
   "source": [
    "![callbcaks](images/callbacks.png)\n",
    "(picture from [Fast.ai — An infinitely customizable training loop with Sylvain Gugger\n",
    "](https://www.youtube.com/watch?v=roc-dOSeehM))"
   ]
  },
  {
   "cell_type": "markdown",
   "metadata": {},
   "source": [
    "We will now go through a simplified version of fastai's callback implementation"
   ]
  },
  {
   "cell_type": "code",
   "execution_count": 203,
   "metadata": {},
   "outputs": [],
   "source": [
    "class mCallback():\n",
    "    def begin_fit(self, learn):\n",
    "        self.learn = learn\n",
    "        self.in_train=True\n",
    "        return True\n",
    "    def after_fit(self): return True\n",
    "    def begin_epoch(self, epoch):\n",
    "        self.epoch=epoch\n",
    "        return True\n",
    "    def begin_validate(self): \n",
    "        self.in_train= False\n",
    "        return True\n",
    "    def after_epoch(self): return True\n",
    "    def begin_batch(self, xb, yb):\n",
    "        self.xb,self.yb = xb,yb\n",
    "        return True\n",
    "    def after_pred(self, pred) :\n",
    "        self.pred = pred\n",
    "        return \n",
    "    def after_loss(self, loss):\n",
    "        self.loss = loss\n",
    "        return True\n",
    "    def after_backward(self): return True\n",
    "    def after_step(self): return True"
   ]
  },
  {
   "cell_type": "code",
   "execution_count": 205,
   "metadata": {},
   "outputs": [],
   "source": [
    "class mCallbackHandler():\n",
    "    \"\"\"\n",
    "    Handles a list of callbacks\n",
    "    \"\"\"\n",
    "    def __init__(self,cbs=None):\n",
    "        self.cbs = cbs if cbs else []\n",
    "\n",
    "    def begin_fit(self, learn):\n",
    "        self.learn,self.in_train = learn,True\n",
    "        learn.stop = False\n",
    "        res = True\n",
    "        for cb in self.cbs: res = res and cb.begin_fit(learn)\n",
    "        return res\n",
    "\n",
    "    def after_fit(self):\n",
    "        res = not self.in_train\n",
    "        for cb in self.cbs: res = res and cb.after_fit()\n",
    "        return res\n",
    "    \n",
    "    def begin_epoch(self, epoch):\n",
    "        self.learn.model.train()\n",
    "        self.in_train=True\n",
    "        res = True\n",
    "        for cb in self.cbs: res = res and cb.begin_epoch(epoch)\n",
    "        return res\n",
    "\n",
    "    def begin_validate(self):\n",
    "        self.learn.model.eval()\n",
    "        self.in_train=False\n",
    "        res = True\n",
    "        for cb in self.cbs: res = res and cb.begin_validate()\n",
    "        return res\n",
    "\n",
    "    def after_epoch(self):\n",
    "        res = True\n",
    "        for cb in self.cbs: res = res and cb.after_epoch()\n",
    "        return res\n",
    "    \n",
    "    def begin_batch(self, xb, yb):\n",
    "        res = True\n",
    "        for cb in self.cbs: res = res and cb.begin_batch(xb, yb)\n",
    "        return res\n",
    "    \n",
    "    def after_pred(self, pred):\n",
    "        self.pred = pred\n",
    "        for cb in self.cbs: cb.after_pred(pred)\n",
    "        return\n",
    "    \n",
    "    def after_loss(self, loss):\n",
    "        res = True\n",
    "        for cb in self.cbs: res = res and cb.after_loss(loss)\n",
    "        return res and self.in_train\n",
    "\n",
    "    def after_backward(self):\n",
    "        res = True\n",
    "        for cb in self.cbs: res = res and cb.after_backward()\n",
    "        return res\n",
    "\n",
    "    def after_step(self):\n",
    "        res = True\n",
    "        for cb in self.cbs: res = res and cb.after_step()\n",
    "        return res\n",
    "    \n",
    "    def do_stop(self):\n",
    "        try:     return self.learn.stop\n",
    "        finally: self.learn.stop = False"
   ]
  },
  {
   "cell_type": "markdown",
   "metadata": {},
   "source": [
    "This is the result of our fit function using callbacks and a bit of refactoring"
   ]
  },
  {
   "cell_type": "code",
   "execution_count": 201,
   "metadata": {},
   "outputs": [],
   "source": [
    "def mone_batch(xb, yb, cb):\n",
    "    #print('starting one batch')\n",
    "    if not cb.begin_batch(xb,yb): return\n",
    "    pred = cb.learn.model(xb)\n",
    "    cb.after_ped(pred)\n",
    "    loss = cb.learn.loss_func(pred, yb)\n",
    "    if not cb.after_loss(loss): return\n",
    "    loss.backward()\n",
    "    if cb.after_backward(): cb.learn.opt.step()\n",
    "    if cb.after_step(): cb.learn.opt.zero_grad()\n",
    "\n",
    "\n",
    "def mall_batches(dl, cb):\n",
    "    #print('Starting all batches')\n",
    "    for xb,yb in dl:\n",
    "        mone_batch(xb, yb, cb)\n",
    "        if cb.do_stop(): return\n",
    "\n",
    "def mfit(epochs, learn, cb):\n",
    "    if not cb.begin_fit(learn): return\n",
    "    for epoch in range(epochs):\n",
    "        #print('Satrting new epoch')\n",
    "        if not cb.begin_epoch(epoch): continue\n",
    "        mall_batches(learn.data.train_dl, cb)\n",
    "        \n",
    "        if cb.begin_validate():\n",
    "            with torch.no_grad(): mall_batches(learn.data.valid_dl, cb)\n",
    "        if cb.do_stop() or not cb.after_epoch(): break\n",
    "    cb.after_fit()"
   ]
  },
  {
   "cell_type": "markdown",
   "metadata": {},
   "source": [
    "### Example "
   ]
  },
  {
   "cell_type": "markdown",
   "metadata": {},
   "source": [
    "As this might be a lot of this to digest, here is a simple example of linear regression."
   ]
  },
  {
   "cell_type": "code",
   "execution_count": 118,
   "metadata": {},
   "outputs": [],
   "source": [
    "import matplotlib"
   ]
  },
  {
   "cell_type": "code",
   "execution_count": 164,
   "metadata": {},
   "outputs": [],
   "source": [
    "x = torch.FloatTensor(range(100)).view(-1, 1)\n",
    "y =  2*x  + torch.randn(100, 1) * 10"
   ]
  },
  {
   "cell_type": "code",
   "execution_count": 165,
   "metadata": {},
   "outputs": [
    {
     "data": {
      "image/png": "[encoded data removed]",
      "text/plain": [
       "<Figure size 432x288 with 1 Axes>"
      ]
     },
     "metadata": {
      "needs_background": "light"
     },
     "output_type": "display_data"
    }
   ],
   "source": [
    "plt.scatter(x.view(-1), y.view(-1))\n",
    "plt.show()"
   ]
  },
  {
   "cell_type": "markdown",
   "metadata": {},
   "source": [
    "So we want to learn y from x. Let's create the train and valid dataloaders and the databunch"
   ]
  },
  {
   "cell_type": "code",
   "execution_count": 166,
   "metadata": {},
   "outputs": [],
   "source": [
    "full_ds = TensorDataset(x, y)\n",
    "full_dl = DataLoader(full_ds)"
   ]
  },
  {
   "cell_type": "code",
   "execution_count": 167,
   "metadata": {},
   "outputs": [],
   "source": [
    "from torch.utils.data import TensorDataset, DataLoader"
   ]
  },
  {
   "cell_type": "code",
   "execution_count": 168,
   "metadata": {},
   "outputs": [],
   "source": [
    "permutaion = np.random.permutation(100)\n",
    "train_idx = permutaion[:80]\n",
    "valid_idx = permutaion[80:]\n",
    "train_ds = TensorDataset(x[train_idx], y[train_idx])\n",
    "valid_ds = TensorDataset(x[valid_idx], y[valid_idx])"
   ]
  },
  {
   "cell_type": "code",
   "execution_count": 190,
   "metadata": {},
   "outputs": [
    {
     "data": {
      "image/png": "[encoded data removed]",
      "text/plain": [
       "<Figure size 432x288 with 1 Axes>"
      ]
     },
     "metadata": {
      "needs_background": "light"
     },
     "output_type": "display_data"
    }
   ],
   "source": [
    "plt.scatter(train_idx, y[train_idx], label='train data')\n",
    "plt.scatter(valid_idx, y[valid_idx], label='validation data')\n",
    "plt.legend()\n",
    "plt.show()"
   ]
  },
  {
   "cell_type": "code",
   "execution_count": 191,
   "metadata": {},
   "outputs": [],
   "source": [
    "train_dl, valid_dl = DataLoader(train_ds, batch_size=10),  DataLoader(valid_ds, batch_size=10)"
   ]
  },
  {
   "cell_type": "code",
   "execution_count": 192,
   "metadata": {},
   "outputs": [],
   "source": [
    "data = Databunch(train_dl, valid_dl)"
   ]
  },
  {
   "cell_type": "markdown",
   "metadata": {},
   "source": [
    "Now we need create our learner\n"
   ]
  },
  {
   "cell_type": "code",
   "execution_count": 193,
   "metadata": {},
   "outputs": [],
   "source": [
    "model = nn.Linear(1, 1)\n",
    "opt = torch.optim.SGD(model.parameters(), lr=0.00001, momentum=0.9)\n",
    "loss_func = mse\n",
    "learn = mLearner(model, opt, loss_func, data)"
   ]
  },
  {
   "cell_type": "markdown",
   "metadata": {},
   "source": [
    "Now that we have all we need to train, let's create a callback that will print the training and validation loss after each epoch."
   ]
  },
  {
   "cell_type": "code",
   "execution_count": 194,
   "metadata": {},
   "outputs": [],
   "source": [
    "class LossPrinter(mCallback) :\n",
    "    def begin_epoch(self, epoch) :\n",
    "        self.epoch = epoch\n",
    "        self.in_train = True\n",
    "        self.training_loss = 0\n",
    "        self.training_count = 0\n",
    "        self.validation_loss = 0\n",
    "        self.validation_count = 0\n",
    "        return True\n",
    "    \n",
    "    def after_loss(self, loss) :\n",
    "        self.loss = loss\n",
    "        if self.in_train :\n",
    "            #print(\"train\")\n",
    "            self.training_loss += loss\n",
    "            self.training_count += 1\n",
    "        else :\n",
    "            #print(\"val\")\n",
    "            self.validation_loss += loss\n",
    "            self.validation_count += 1\n",
    "        return True\n",
    "    def after_epoch(self) :\n",
    "        tr_loss = self.training_loss/self.training_count\n",
    "        val_loss = self.validation_loss/self.validation_count\n",
    "        print(f\"Epoch {self.epoch} : train loss : {tr_loss}, val loss : {val_loss}\")\n",
    "        return True"
   ]
  },
  {
   "cell_type": "code",
   "execution_count": 195,
   "metadata": {},
   "outputs": [],
   "source": [
    "cb = mCallbackHandler(cbs=[LossPrinter()])"
   ]
  },
  {
   "cell_type": "code",
   "execution_count": 196,
   "metadata": {},
   "outputs": [
    {
     "name": "stdout",
     "output_type": "stream",
     "text": [
      "Epoch 0 : train loss : 6893.0673828125, val loss : 1007.7388916015625\n",
      "Epoch 1 : train loss : 3165.007080078125, val loss : 1616.822998046875\n",
      "Epoch 2 : train loss : 1126.92333984375, val loss : 1126.4425048828125\n",
      "Epoch 3 : train loss : 610.1114501953125, val loss : 297.632080078125\n",
      "Epoch 4 : train loss : 358.3578796386719, val loss : 276.0628662109375\n",
      "Epoch 5 : train loss : 205.29539489746094, val loss : 163.21835327148438\n",
      "Epoch 6 : train loss : 142.3311767578125, val loss : 171.56991577148438\n",
      "Epoch 7 : train loss : 131.19882202148438, val loss : 156.42144775390625\n",
      "Epoch 8 : train loss : 122.08387756347656, val loss : 123.480224609375\n",
      "Epoch 9 : train loss : 111.4623031616211, val loss : 145.77081298828125\n"
     ]
    }
   ],
   "source": [
    "mfit(10, learn, cb)"
   ]
  },
  {
   "cell_type": "markdown",
   "metadata": {},
   "source": [
    "As we can see, this callback prints the taining and validation loss after each epoch, we could use callback to modify the learning rate after each epoch, use gradiant clipping and infinitely other things. We will now use use a better implemementation of callbacks :"
   ]
  },
  {
   "cell_type": "code",
   "execution_count": null,
   "metadata": {},
   "outputs": [],
   "source": [
    "class Runner():\n",
    "    def __init__(self, cbs=None, cb_funcs=None):\n",
    "        cbs = listify(cbs)\n",
    "        for cbf in listify(cb_funcs):\n",
    "            cb = cbf()\n",
    "            setattr(self, cb.name, cb)\n",
    "            cbs.append(cb)\n",
    "        self.stop,self.cbs = False,[TrainEvalCallback()]+cbs\n",
    "\n",
    "    @property\n",
    "    def opt(self):       return self.learn.opt\n",
    "    @property\n",
    "    def model(self):     return self.learn.model\n",
    "    @property\n",
    "    def loss_func(self): return self.learn.loss_func\n",
    "    @property\n",
    "    def data(self):      return self.learn.data\n",
    "\n",
    "    def one_batch(self, xb, yb):\n",
    "        self.xb,self.yb = xb,yb\n",
    "        if self('begin_batch'): return\n",
    "        self.pred = self.model(self.xb)\n",
    "        if self('after_pred'): return\n",
    "        self.loss = self.loss_func(self.pred, self.yb)\n",
    "        if self('after_loss') or not self.in_train: return\n",
    "        self.loss.backward()\n",
    "        if self('after_backward'): return\n",
    "        self.opt.step()\n",
    "        if self('after_step'): return\n",
    "        self.opt.zero_grad()\n",
    "\n",
    "    def all_batches(self, dl):\n",
    "        self.iters = len(dl)\n",
    "        for xb,yb in dl:\n",
    "            if self.stop: break\n",
    "            self.one_batch(xb, yb)\n",
    "            self('after_batch')\n",
    "        self.stop=False\n",
    "\n",
    "    def fit(self, epochs, learn):\n",
    "        self.epochs,self.learn,self.loss = epochs,learn,tensor(0.)\n",
    "\n",
    "        try:\n",
    "            for cb in self.cbs: cb.set_runner(self)\n",
    "            if self('begin_fit'): return\n",
    "            for epoch in range(epochs):\n",
    "                self.epoch = epoch\n",
    "                if not self('begin_epoch'): self.all_batches(self.data.train_dl)\n",
    "\n",
    "                with torch.no_grad(): \n",
    "                    if not self('begin_validate'): self.all_batches(self.data.valid_dl)\n",
    "                if self('after_epoch'): break\n",
    "            \n",
    "        finally:\n",
    "            self('after_fit')\n",
    "            self.learn = None\n",
    "\n",
    "    def __call__(self, cb_name):\n",
    "        for cb in sorted(self.cbs, key=lambda x: x._order):\n",
    "            f = getattr(cb, cb_name, None)\n",
    "            if f and f(): return True\n",
    "        return False"
   ]
  },
  {
   "cell_type": "markdown",
   "metadata": {},
   "source": [
    "### AWD LSTM training loop"
   ]
  },
  {
   "cell_type": "markdown",
   "metadata": {},
   "source": [
    "With callbacks implemented, we are ready to implement the teaks used in the AWD LSTM trainig loop training "
   ]
  },
  {
   "cell_type": "code",
   "execution_count": 207,
   "metadata": {},
   "outputs": [],
   "source": [
    "??Callback"
   ]
  },
  {
   "cell_type": "code",
   "execution_count": 198,
   "metadata": {},
   "outputs": [],
   "source": [
    "class GradientClipping(Callback):\n",
    "    def __init__(self, clip=None): self.clip = clip\n",
    "    def after_backward(self):\n",
    "        if self.clip:  nn.utils.clip_grad_norm_(self.run.model.parameters(), self.clip)\n",
    "        return True"
   ]
  },
  {
   "cell_type": "code",
   "execution_count": 206,
   "metadata": {},
   "outputs": [],
   "source": [
    "class RNNTrainer(Callback):\n",
    "    def __init__(self, α, β): self.α,self.β = α,β\n",
    "    \n",
    "    def after_pred(self):\n",
    "        #Save the extra outputs for later and only returns the true output.\n",
    "        self.raw_out,self.out = self.pred[1],self.pred[2]\n",
    "        self.run.pred = self.pred[0]\n",
    "        return True\n",
    "    \n",
    "    def after_loss(self):\n",
    "        #AR and TAR\n",
    "        if self.α != 0.:  self.loss += self.α * self.out[-1].float().pow(2).mean()\n",
    "        if self.β != 0.:\n",
    "            h = self.raw_out[-1]\n",
    "            if len(h)>1: self.run.loss += self.β * (h[:,1:] - h[:,:-1]).float().pow(2).mean()\n",
    "        return True\n",
    "    \n",
    "    def begin_epoch(self):\n",
    "        #Shuffle the texts at the beginning of the epoch\n",
    "        if hasattr(self.dl.dataset, \"batchify\"): self.dl.dataset.batchify()\n",
    "        return True"
   ]
  },
  {
   "cell_type": "code",
   "execution_count": null,
   "metadata": {},
   "outputs": [],
   "source": []
  }
 ],
 "metadata": {
  "kernelspec": {
   "display_name": "Python 3",
   "language": "python",
   "name": "python3"
  },
  "language_info": {
   "codemirror_mode": {
    "name": "ipython",
    "version": 3
   },
   "file_extension": ".py",
   "mimetype": "text/x-python",
   "name": "python",
   "nbconvert_exporter": "python",
   "pygments_lexer": "ipython3",
   "version": "3.7.2"
  }
 },
 "nbformat": 4,
 "nbformat_minor": 2
}
