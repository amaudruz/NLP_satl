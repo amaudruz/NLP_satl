{
 "cells": [
  {
   "cell_type": "code",
   "execution_count": 43,
   "metadata": {},
   "outputs": [],
   "source": [
    "from torchtext import *\n",
    "from fastai import *\n",
    "import torch\n",
    "from fastai.text import *\n",
    "from torchtext.datasets import Multi30k, LanguageModelingDataset\n",
    "from models import *\n",
    "from torchtext.data import *\n",
    "from tqdm import tqdm, trange, tqdm_notebook\n",
    "import os\n",
    "import csv\n",
    "from itertools import chain\n",
    "%load_ext autoreload\n",
    "%autoreload 2\n",
    "\n",
    "%matplotlib inline"
   ]
  },
  {
   "cell_type": "markdown",
   "metadata": {},
   "source": [
    "# AWD LSTM Language model"
   ]
  },
  {
   "cell_type": "markdown",
   "metadata": {},
   "source": [
    "In this notebook, we will go through the full implementation of a language model neural network using a pretrained AWD_LSTM architecture and finetuning it on a given as done for the [ULMFIT](https://arxiv.org/pdf/1801.06146.pdf) paper. Most of the upcoming code is heavily based on the [fastai](https://docs.fast.ai) library and its deep learning course, which has already a full implementation of the ulmfit approach for NLP. However considering the complexity of the fastai code and its simplicity to use we figured it would helpful for readers to get a full bottom up implementation using pytorch as a baseline. Still we expect that if you read this notebook, you have a good knowledge and understanding of RNNs, language modeling (see paper) and pytorch."
   ]
  },
  {
   "cell_type": "markdown",
   "metadata": {},
   "source": [
    "## Introduction"
   ]
  },
  {
   "cell_type": "markdown",
   "metadata": {},
   "source": [
    "$(x_1, x_2, x_3, ..., x_t)$"
   ]
  },
  {
   "cell_type": "markdown",
   "metadata": {},
   "source": [
    "## Data preperation"
   ]
  },
  {
   "cell_type": "markdown",
   "metadata": {},
   "source": [
    "So the idea of a language model is to learn how to \"speak\" the language which means that given a sentence $x = (x_1, x_2, x_3, ..., x_t)$ where a $x_i$ is the i-th word of the sentence, it needs to predict the vector $y = (y_1, y_2, y_3, ...,y_t)$ where $y_t = x_{t+1}$. In other words it needs to predict at each time step $t$ the next word $x_{t+1}$.\n",
    "\n",
    "How do we come up with sentences ? The ideal idea would be to have a giant text and split it into $t$ size sentences. Now in our situation, we only have tweets, so what we need to do is simply concatenate them using a special made worde in between them so our language model will be able to learn the difference.\n",
    "\n",
    "Now obviously, a neural network can't take strings as input, so we will have to numericalize them which means assigning a number to each of the words in the text. Now we need to be careful our entire set of tweets contains probably way too much different words. So what we do is we keep the words that are the most used in the text and assign those that are not used that much to a special word.\n",
    "\n"
   ]
  },
  {
   "cell_type": "code",
   "execution_count": 46,
   "metadata": {},
   "outputs": [],
   "source": [
    "class LMDataSet(data.Dataset):\n",
    "    \"\"\"Defines a dataset for language modeling.\"\"\"\n",
    "\n",
    "    def __init__(self, path, text_field, newline_eos=True,\n",
    "                 encoding='utf-8', **kwargs):\n",
    "        \"\"\"Create a LanguageModelingDataset given a path and a field.\n",
    "\n",
    "        Arguments:\n",
    "            path: Path to the data file.\n",
    "            text_field: The field that will be used for text data.\n",
    "            newline_eos: Whether to add an <eos> token for every newline in the\n",
    "                data file. Default: True.\n",
    "            Remaining keyword arguments: Passed to the constructor of\n",
    "                data.Dataset.\n",
    "        \"\"\"\n",
    "        fields = [('text', text_field)]\n",
    "        text = []\n",
    "        with open(path, encoding=encoding) as f:\n",
    "            reader = csv.reader(f, delimiter='\\t')\n",
    "            count=0\n",
    "            for row in reader:\n",
    "                count+=1\n",
    "                if count ==1 :\n",
    "                    continue \n",
    "                text += text_field.preprocess(row[1])\n",
    "                if newline_eos:\n",
    "                    text.append(u'<eos>')\n",
    "                \n",
    "\n",
    "        examples = [data.Example.fromlist([text], fields)]\n",
    "        super(LMDataSet, self).__init__(\n",
    "            examples, fields, **kwargs)\n",
    "        \n",
    "    \n",
    "    \n",
    "    def get_sample(self, ratio=0.2) :\n",
    "        text = self.examples[0].text\n",
    "        fs =len(text)\n",
    "        text_sample = text[:int(fs*ratio)]\n",
    "        ex_sample = Example.fromlist([text_sample], list(self.fields.items()))\n",
    "        return Dataset([ex_sample], list(self.fields.items()))"
   ]
  },
  {
   "cell_type": "code",
   "execution_count": 47,
   "metadata": {},
   "outputs": [],
   "source": [
    "def split_train_valid(lm_dataset, ratio=0.8) :\n",
    "        text = lm_dataset.examples[0].text\n",
    "        fs =len(text)\n",
    "        \n",
    "        train = text[:int(fs*ratio)]\n",
    "        valid = text[int(fs*ratio):]\n",
    "        ex_train = Example.fromlist([train], list(lm_dataset.fields.items()))\n",
    "        ex_valid = Example.fromlist([valid], list(lm_dataset.fields.items()))\n",
    "        return Dataset([ex_train], list(lm_dataset.fields.items())), Dataset([ex_valid], list(lm_dataset.fields.items()))"
   ]
  },
  {
   "cell_type": "code",
   "execution_count": 48,
   "metadata": {},
   "outputs": [],
   "source": [
    "lm_ds = LMDataSet('data/train_full.tsv', Field())"
   ]
  },
  {
   "cell_type": "code",
   "execution_count": 49,
   "metadata": {},
   "outputs": [],
   "source": [
    "lm_ds.fields['text'].build_vocab([lm_ds[0].text], max_size=60000)"
   ]
  },
  {
   "cell_type": "code",
   "execution_count": 50,
   "metadata": {},
   "outputs": [],
   "source": [
    "lm_ds_sample = lm_ds.get_sample(0.01)"
   ]
  },
  {
   "cell_type": "code",
   "execution_count": 51,
   "metadata": {},
   "outputs": [],
   "source": [
    "train, valid = split_train_valid(lm_ds_sample)"
   ]
  },
  {
   "cell_type": "code",
   "execution_count": 52,
   "metadata": {},
   "outputs": [
    {
     "data": {
      "text/plain": [
       "(347938, 86985, 43492376)"
      ]
     },
     "execution_count": 52,
     "metadata": {},
     "output_type": "execute_result"
    }
   ],
   "source": [
    "len(train[0].text), len(valid[0].text), len(lm_ds[0].text)"
   ]
  },
  {
   "cell_type": "code",
   "execution_count": 53,
   "metadata": {},
   "outputs": [],
   "source": [
    "bs = 64\n",
    "bptt = 50"
   ]
  },
  {
   "cell_type": "code",
   "execution_count": 54,
   "metadata": {},
   "outputs": [],
   "source": [
    "vocabbb = train.fields['text'].vocab"
   ]
  },
  {
   "cell_type": "code",
   "execution_count": 55,
   "metadata": {},
   "outputs": [],
   "source": [
    "train_it = BPTTIterator(train, bs, bptt)\n",
    "valid_it = BPTTIterator(valid, bs, bptt)"
   ]
  },
  {
   "cell_type": "markdown",
   "metadata": {},
   "source": [
    "## AWD_LSTM Architecture"
   ]
  },
  {
   "cell_type": "markdown",
   "metadata": {},
   "source": [
    "### LSTM"
   ]
  },
  {
   "cell_type": "markdown",
   "metadata": {},
   "source": [
    "The core of the AWD LSTM architecture is of course the LSTM neural net. It is an improvement to the standart RNN way of dealing with sequential data (such as text). LSTM deals with the [vanishing/exploding gradient problem](https://medium.com/learn-love-ai/the-curious-case-of-the-vanishing-exploding-gradient-bf58ec6822eb) that come up in simple RNNs using cell connection gates. For further intuition on 'why' most the upcoming implentations I recommend colah's blog post : [Understanding LSTM Networks](https://colah.github.io/posts/2015-08-Understanding-LSTMs/) "
   ]
  },
  {
   "cell_type": "markdown",
   "metadata": {},
   "source": [
    "#### LSTM cell"
   ]
  },
  {
   "cell_type": "markdown",
   "metadata": {},
   "source": [
    "![LSTM cell and equations](images/lstm.jpg)\n",
    "(picture from [Understanding LSTMs](https://colah.github.io/posts/2015-08-Understanding-LSTMs/) by Chris Olah.)"
   ]
  },
  {
   "cell_type": "markdown",
   "metadata": {},
   "source": [
    "The LSTM archutecture is composed of a repeated cell which is shown in the image above. Its inputs are :\n",
    "- **xt** which in our case is the embedding vector of the nth word of a batch of sentences\n",
    "- **ht-1** the output of the last cell just like in RNNs.\n",
    "- **ct-1** again output form last cell which is called the *cell state* used to prevent long-term dependencies problem.\n",
    "\n",
    "The $\\sigma$ reprenstents the [Sigmoid](https://en.wikipedia.org/wiki/Sigmoid_function) function applied element-wise to its input. Both x and + connections are elemnt-wise multiplication and addition respectively. "
   ]
  },
  {
   "cell_type": "markdown",
   "metadata": {},
   "source": [
    "Let us implement it using the pytorch nn.Module class. We use a two big matrix multiplication to compute x*U and and h*U instead of 4 for each of them."
   ]
  },
  {
   "cell_type": "code",
   "execution_count": 56,
   "metadata": {},
   "outputs": [],
   "source": [
    "class LSTMCell(nn.Module):\n",
    "    def __init__(self, x_s, h_s):\n",
    "        super().__init__()\n",
    "        self.h_s = h_s\n",
    "        self.x_s = x_s\n",
    "        self.U = nn.Linear(x_s,4*h_s)\n",
    "        self.W = nn.Linear(h_s,4*h_s)\n",
    "\n",
    "    def forward(self, input, state):\n",
    "        #inputs from last cell\n",
    "        h,c = state\n",
    "        \n",
    "        #computing itermedtiate gates\n",
    "        gates = (self.U(input) + self.W(h)).chunk(4, 1)\n",
    "        i_t,f_t,o_t = map(torch.sigmoid, gates[:3])\n",
    "        c_t = gates[3].tanh()\n",
    "        c = (f_t*c) + (i_t*c_t)\n",
    "        h = o_t * c.tanh()\n",
    "        \n",
    "        #outputting the usualt h output and the state to give to next cell if needed\n",
    "        return h, (h,c)"
   ]
  },
  {
   "cell_type": "markdown",
   "metadata": {},
   "source": [
    "#### LSTM Layer"
   ]
  },
  {
   "cell_type": "markdown",
   "metadata": {},
   "source": [
    "The next building block of the LSTM is the LSTM layer wich consisit of appling the LSTM cell to each sequential input in a recurrent manner with each time forwarding its state to the next time step."
   ]
  },
  {
   "cell_type": "markdown",
   "metadata": {},
   "source": [
    "![LSTM layer](images/LSTM3.png)\n",
    "(picture from [Understanding LSTMs](https://colah.github.io/posts/2015-08-Understanding-LSTMs/) by Chris Olah.)"
   ]
  },
  {
   "cell_type": "code",
   "execution_count": 57,
   "metadata": {},
   "outputs": [],
   "source": [
    "class LSTMLayer(nn.Module):\n",
    "    def __init__(self, x_s, h_s):\n",
    "        super().__init__()\n",
    "        self.lstm_cell = LSTMCell(x_s, h_s)\n",
    "\n",
    "    def forward(self, input, state):\n",
    "        # divide the input in the sequence dimension to get x_0, x_1, x_2, ...\n",
    "        inputs = input.unbind(1)\n",
    "        \n",
    "        #prepare to store the output of each cell\n",
    "        outputs = []\n",
    "        \n",
    "        #applying the cell recursively \n",
    "        for i in range(len(inputs)):\n",
    "            out, state = self.lstm_cell(inputs[i], state)\n",
    "            outputs += [out]\n",
    "        \n",
    "        #return the stacked outputs\n",
    "        return torch.stack(outputs, dim=1), state"
   ]
  },
  {
   "cell_type": "markdown",
   "metadata": {},
   "source": [
    "(For the state for the first cell we simply use tensors with only zeroes)"
   ]
  },
  {
   "cell_type": "markdown",
   "metadata": {},
   "source": [
    "#### Stacked LSTM layers"
   ]
  },
  {
   "cell_type": "markdown",
   "metadata": {},
   "source": [
    "The last step before having fully implemented pytorch's LSTM module is stacking multiple LSTM layers one above each other as shown in the following diagram :"
   ]
  },
  {
   "cell_type": "markdown",
   "metadata": {},
   "source": [
    "![Stacked RNN](images/RNN_Stacking.png)\n",
    "(picture from : https://leonardoaraujosantos.gitbooks.io/artificial-inteligence/content/recurrent_neural_networks.html?q= )"
   ]
  },
  {
   "cell_type": "markdown",
   "metadata": {},
   "source": [
    "- <font color='pink'>pink rectangles</font>  : The sequential inputs  \n",
    "- <font color='green'>green rectangles</font>  : An LSTM cell, each line is a layer so the cells on the same line are the same\n",
    "- <font color='blue'>blue rectangles</font> : The sequential outputs"
   ]
  },
  {
   "cell_type": "markdown",
   "metadata": {},
   "source": [
    "On the previous implementations, we created the initial state **h0** and **c0** outside of the model at the same time as we gave the input. This means that we could create h0 and c0 with the right sizes by simply comparing it to the input sizes. This time around, we will create the initial state to give to all the layers inside the model itself. As the dimensions of the state depend on the batch size of the input given, we need to create the initial states at the start of the forward pass when we are given the input (and thus we know the batch size) with the help of the **reset()** method. We also want to keep the last states from last batch if the batch size did not change.\n",
    "\n",
    "We aso have to be careful of the sives of the hidden layers inputs. For example, on the image above, the first layer takes as input the initial sequence and outputs a hidden sequence whereas the second and third layers take as input a hidden sequence and outputs a hidden sequence. Because of that we must have a different sizes for the first layer and the other layers. And of course the same goes for the initial states."
   ]
  },
  {
   "cell_type": "code",
   "execution_count": 58,
   "metadata": {},
   "outputs": [],
   "source": [
    "class fullLSTM(nn.Module):\n",
    "    def __init__(self, x_s, h_s, n_layers):\n",
    "        super().__init__()\n",
    "        self.n_layers = n_layers\n",
    "        self.lstm_layers = nn.ModuleList([LSTMLayer(x_s if i==0 else h_s, h_s ) for i in range(n_layers)])\n",
    "        self.bs = 0\n",
    "\n",
    "    def forward(self, input):\n",
    "        \n",
    "        #get the batch size from the first dimension of the input \n",
    "        bs, sl, _ = input.size()\n",
    "        if self.bs != bs :\n",
    "            self.bs = bs\n",
    "            self.reset()\n",
    "       \n",
    "        # now we have the initial states and we can go through all the layers recursively\n",
    "        for j in range(self.n_layers) :\n",
    "            layer = self.lstm_layers[j]\n",
    "            input, self.hidden[j] = layer(input, self.hidden[j])\n",
    "                \n",
    "        \n",
    "        #return the outputs\n",
    "        return input\n",
    "    \n",
    "    def reset(self) :\n",
    "        st = next(self.parameters()).new(self.bs, h_s).zero_()\n",
    "        self.hidden = [(st, st) for l in range(self.n_layers)]\n",
    "        "
   ]
  },
  {
   "cell_type": "markdown",
   "metadata": {},
   "source": [
    "This implementation is pretty much the same as pytorch's nn.LSTM. The difference is that pytorch uses CuDNN to make the computations faster. We will now use pytorch's implementation instead of ours"
   ]
  },
  {
   "cell_type": "markdown",
   "metadata": {},
   "source": [
    "### Generalization : Dropout"
   ]
  },
  {
   "cell_type": "markdown",
   "metadata": {},
   "source": [
    "Usual regularization techniques used in feed-forward and convolutional neural nets such as dropout and batchnorm do not work well in RNNs. The AWD LSTM uses extensions of those to regularize its model. Correspondigns ections of the [paper](https://arxiv.org/pdf/1708.02182.pdf) will be provided for more info."
   ]
  },
  {
   "cell_type": "markdown",
   "metadata": {},
   "source": [
    "#### Variational dropout \n",
    "Section 4.2"
   ]
  },
  {
   "cell_type": "markdown",
   "metadata": {},
   "source": [
    "The idea in variational dropout is to use the **same** drop out mask to a squential input over the sequence dimension. In essence, if you have an input x with shape *(bs, seq_len, x_s)*, the dropout mask will be of shape *(bs, 1, x_s)* and will be applied to each slice of sequence.\n",
    "This dropout will be used on each output/input of the LSTM layers. Additionally we divide every activations that have not been set to 0 by the mask by 1-p (p: probability of dropout) to keep the average. We use [broadcasting](https://pytorch.org/docs/stable/notes/broadcasting.html) to be efficient in the element-wise computations"
   ]
  },
  {
   "cell_type": "code",
   "execution_count": 59,
   "metadata": {},
   "outputs": [],
   "source": [
    "def dropout_mask(x, sz, p):\n",
    "    return x.new(*sz).bernoulli_(1-p).div_(1-p)"
   ]
  },
  {
   "cell_type": "code",
   "execution_count": 60,
   "metadata": {},
   "outputs": [],
   "source": [
    "class VDropout(nn.Module) :\n",
    "    def __init__(self, p=0.5) :\n",
    "        super().__init__()\n",
    "        self.p = p\n",
    "    def forward(self, x) :\n",
    "        #The dropout should only be used during training and not eval \n",
    "        if not self.training or self.p == 0.: return x\n",
    "        #the mask\n",
    "        m = dropout_mask(x.data, (x.size(0), 1, x.size(2)), self.p)\n",
    "        #element-wise multiplication with broadcasting\n",
    "        return x*m"
   ]
  },
  {
   "cell_type": "code",
   "execution_count": 61,
   "metadata": {
    "scrolled": false
   },
   "outputs": [
    {
     "data": {
      "text/plain": [
       "(tensor([[[-0.0916,  0.1921, -0.8202, -2.4365, -0.6699,  0.9976, -0.7295],\n",
       "          [-0.2314, -1.7133,  0.3183, -0.2061,  0.3275,  0.0333,  1.0133],\n",
       "          [ 0.3429,  1.8585,  1.9196,  0.4617, -0.1172, -0.8209,  0.4200]],\n",
       " \n",
       "         [[ 0.4948,  0.9259, -0.9224,  0.8257,  0.2613, -0.5878,  0.1486],\n",
       "          [-0.0370, -0.0519, -0.3507, -0.8274,  0.3976, -0.4022, -0.5860],\n",
       "          [-1.4251,  0.9739,  0.6816,  1.1509, -0.0826,  1.6007,  0.1701]],\n",
       " \n",
       "         [[ 0.0802, -0.6836, -2.3615, -0.4559, -1.7405,  0.1039,  0.7938],\n",
       "          [ 1.4682,  0.2345, -0.5690,  1.2756,  0.5497, -0.5573,  0.9412],\n",
       "          [ 1.6329,  0.0277, -0.8515, -2.3154,  1.4387,  0.5795, -0.7031]]]),\n",
       " tensor([[[-0.1309,  0.0000, -0.0000, -0.0000, -0.9570,  1.4251, -1.0421],\n",
       "          [-0.3306, -0.0000,  0.0000, -0.0000,  0.4679,  0.0476,  1.4475],\n",
       "          [ 0.4898,  0.0000,  0.0000,  0.0000, -0.1674, -1.1727,  0.6000]],\n",
       " \n",
       "         [[ 0.0000,  1.3228, -1.3177,  1.1796,  0.0000, -0.0000,  0.2123],\n",
       "          [-0.0000, -0.0741, -0.5010, -1.1820,  0.0000, -0.0000, -0.8372],\n",
       "          [-0.0000,  1.3913,  0.9737,  1.6442, -0.0000,  0.0000,  0.2430]],\n",
       " \n",
       "         [[ 0.1146, -0.9766, -3.3736, -0.6513, -2.4865,  0.0000,  0.0000],\n",
       "          [ 2.0974,  0.3350, -0.8129,  1.8223,  0.7852, -0.0000,  0.0000],\n",
       "          [ 2.3328,  0.0396, -1.2164, -3.3077,  2.0552,  0.0000, -0.0000]]]))"
      ]
     },
     "execution_count": 61,
     "metadata": {},
     "output_type": "execute_result"
    }
   ],
   "source": [
    "m = VDropout(0.3)\n",
    "tst_input = torch.randn(3,3,7)\n",
    "tst_input, m(tst_input)"
   ]
  },
  {
   "cell_type": "markdown",
   "metadata": {},
   "source": [
    "Here we can see that the dropped is consistent in the second dimension"
   ]
  },
  {
   "cell_type": "markdown",
   "metadata": {},
   "source": [
    "#### Embedding dropout \n",
    "Section 4.3"
   ]
  },
  {
   "cell_type": "markdown",
   "metadata": {},
   "source": [
    "For embedding dropout we simply nulifiy entire rows of the word embedding matrix with probability p. Again broadcastiong is used"
   ]
  },
  {
   "cell_type": "code",
   "execution_count": 62,
   "metadata": {},
   "outputs": [],
   "source": [
    "class mEmbeddingDropout(nn.Module):\n",
    "    \n",
    "    def __init__(self, emb, embed_p):\n",
    "        super().__init__()\n",
    "        self.emb,self.embed_p = emb,embed_p\n",
    "        self.pad_idx = self.emb.padding_idx\n",
    "        if self.pad_idx is None: self.pad_idx = -1\n",
    "\n",
    "    def forward(self, words, scale=None):\n",
    "        if self.training and self.embed_p != 0:\n",
    "            size = (self.emb.weight.size(0),1)\n",
    "            mask = dropout_mask(self.emb.weight.data, size, self.embed_p)\n",
    "            masked_embed = self.emb.weight * mask\n",
    "        else: masked_embed = self.emb.weight\n",
    "        if scale: masked_embed.mul_(scale)\n",
    "        return F.embedding(words, masked_embed, self.pad_idx, self.emb.max_norm,\n",
    "                           self.emb.norm_type, self.emb.scale_grad_by_freq, self.emb.sparse)"
   ]
  },
  {
   "cell_type": "code",
   "execution_count": 63,
   "metadata": {},
   "outputs": [
    {
     "data": {
      "text/plain": [
       "tensor([[ 0.0000,  0.0000,  0.0000,  0.0000,  0.0000,  0.0000,  0.0000],\n",
       "        [ 0.0000, -0.0000,  0.0000,  0.0000, -0.0000, -0.0000, -0.0000],\n",
       "        [ 0.0000,  0.0000, -0.0000, -0.0000, -0.0000, -0.0000, -0.0000],\n",
       "        [-1.7760, -0.3174,  1.9763,  0.8991, -1.2225, -1.6584,  0.3279],\n",
       "        [ 0.0000,  0.0000,  0.0000, -0.0000, -0.0000, -0.0000,  0.0000],\n",
       "        [ 0.0000,  0.0000, -0.0000, -0.0000, -0.0000, -0.0000, -0.0000],\n",
       "        [-0.0000, -0.0000,  0.0000, -0.0000,  0.0000,  0.0000, -0.0000],\n",
       "        [ 0.0000, -0.0000,  0.0000,  0.0000,  0.0000, -0.0000, -0.0000]],\n",
       "       grad_fn=<EmbeddingBackward>)"
      ]
     },
     "execution_count": 63,
     "metadata": {},
     "output_type": "execute_result"
    }
   ],
   "source": [
    "enc = nn.Embedding(100, 7, padding_idx=1)\n",
    "enc_dp = mEmbeddingDropout(enc, 0.5)\n",
    "tst_input = torch.randint(0,100,(8,))\n",
    "enc_dp(tst_input)"
   ]
  },
  {
   "cell_type": "markdown",
   "metadata": {},
   "source": [
    "We can see that entire rows have been dropped"
   ]
  },
  {
   "cell_type": "markdown",
   "metadata": {},
   "source": [
    "#### Weight-dropout\n",
    "Section 2"
   ]
  },
  {
   "cell_type": "markdown",
   "metadata": {},
   "source": [
    "Weight dropout is a dropout applied to the weights inside the LSTM cells : U and W.\n",
    "\n",
    "In order to keep the speed of the LSTM layer, we simply replace the weight matrix of the LSTM by a masked version and keep the non-masked version. We can then simply apply the LSTM layer and it will use its new weights."
   ]
  },
  {
   "cell_type": "code",
   "execution_count": 64,
   "metadata": {},
   "outputs": [],
   "source": [
    "# The name of the parameter in the nn.LSTM module containing the weights \n",
    "WEIGHT_HH = 'weight_hh_l0'\n",
    "\n",
    "class mWeightDropout(nn.Module):\n",
    "    def __init__(self, module, weight_p=[0.], layer_names=[WEIGHT_HH]):\n",
    "        super().__init__()\n",
    "        self.module,self.weight_p,self.layer_names = module,weight_p,layer_names\n",
    "        for layer in self.layer_names:\n",
    "            #Makes a copy of the weights of the selected layers.\n",
    "            w = getattr(self.module, layer)\n",
    "            #\n",
    "            self.register_parameter(f'{layer}_raw', nn.Parameter(w.data))\n",
    "            self.module._parameters[layer] = F.dropout(w, p=self.weight_p, training=False)\n",
    "\n",
    "    def _setweights(self):\n",
    "        for layer in self.layer_names:\n",
    "            raw_w = getattr(self, f'{layer}_raw')\n",
    "            self.module._parameters[layer] = F.dropout(raw_w, p=self.weight_p, training=self.training)\n",
    "\n",
    "    def forward(self, *args):\n",
    "        self._setweights()\n",
    "        with warnings.catch_warnings():\n",
    "            #To avoid the warning that comes because the weights aren't flattened.\n",
    "            warnings.simplefilter(\"ignore\")\n",
    "            return self.module.forward(*args)"
   ]
  },
  {
   "cell_type": "code",
   "execution_count": 65,
   "metadata": {},
   "outputs": [
    {
     "data": {
      "text/plain": [
       "Parameter containing:\n",
       "tensor([[ 0.6194, -0.6232],\n",
       "        [-0.6352, -0.0517],\n",
       "        [ 0.0540,  0.0633],\n",
       "        [ 0.2827, -0.3141],\n",
       "        [ 0.1157,  0.1450],\n",
       "        [-0.3574, -0.1706],\n",
       "        [-0.4378, -0.4050],\n",
       "        [ 0.0473,  0.1232]], requires_grad=True)"
      ]
     },
     "execution_count": 65,
     "metadata": {},
     "output_type": "execute_result"
    }
   ],
   "source": [
    "module = nn.LSTM(5, 2)\n",
    "dp_module = mWeightDropout(module, 0.4)\n",
    "getattr(dp_module.module, WEIGHT_HH)"
   ]
  },
  {
   "cell_type": "code",
   "execution_count": 66,
   "metadata": {},
   "outputs": [
    {
     "data": {
      "text/plain": [
       "tensor([[ 0.0000, -1.0386],\n",
       "        [-1.0586, -0.0862],\n",
       "        [ 0.0000,  0.0000],\n",
       "        [ 0.0000, -0.5236],\n",
       "        [ 0.0000,  0.2416],\n",
       "        [-0.5956, -0.2843],\n",
       "        [-0.0000, -0.0000],\n",
       "        [ 0.0000,  0.2053]], grad_fn=<MulBackward0>)"
      ]
     },
     "execution_count": 66,
     "metadata": {},
     "output_type": "execute_result"
    }
   ],
   "source": [
    "tst_input = torch.randn(4,20,5)\n",
    "h = (torch.zeros(1,20,2), torch.zeros(1,20,2))\n",
    "x,h = dp_module(tst_input,h)\n",
    "getattr(dp_module.module, WEIGHT_HH)"
   ]
  },
  {
   "cell_type": "markdown",
   "metadata": {},
   "source": [
    "As we can see, the dropout is applied to the weights during the forward pass"
   ]
  },
  {
   "cell_type": "markdown",
   "metadata": {},
   "source": [
    "### Full model"
   ]
  },
  {
   "cell_type": "markdown",
   "metadata": {},
   "source": [
    "At this point we have everything ready to implement the entire AWSD LSTM model, the following code might look really complicated at first but it is in fact pretty much the same as our fullLSTM except we use the different kinds of dropout disscussed above. It also takes care of the word embeddings whereas our fullLSTM assumed it was already done so we need to take care of that. Another difference is that the last layer outputs a different size tensor "
   ]
  },
  {
   "cell_type": "code",
   "execution_count": 67,
   "metadata": {},
   "outputs": [],
   "source": [
    "def to_detach(h):\n",
    "    \"Detaches `h` from its history.\"\n",
    "    return h.detach() if type(h) == torch.Tensor else tuple(to_detach(v) for v in h)"
   ]
  },
  {
   "cell_type": "code",
   "execution_count": 68,
   "metadata": {},
   "outputs": [],
   "source": [
    "class mAWD_LSTM(nn.Module):\n",
    "    initrange=0.1\n",
    "\n",
    "    def __init__(self, vocab_sz, emb_sz, n_hid, n_layers, pad_token,\n",
    "                 hidden_p=0.2, input_p=0.6, embed_p=0.1, weight_p=0.5):\n",
    "        super().__init__()\n",
    "        \"\"\"Returns an iterator over module parameters.\n",
    "\n",
    "        This is typically passed to an optimizer.\n",
    "\n",
    "        Args:\n",
    "            vocab_sz (int): number of words in the vocab\n",
    "            emb_sz (int): size of the word embedding vector\n",
    "            n_hid (int): size of the hidden vector \n",
    "            n_layers (int): number of layers in the LSTM\n",
    "            pad_token (int): id of the pad_idx for the embedding matrix\n",
    "            hidden_p (float): dropout probability for variational dropout on hidden activations\n",
    "            input_p (float): dropout probability for variational dropout on input activations\n",
    "            embed_p (float):dropout probability for embedding dropout \n",
    "            weight_p (float):dropout probability for weight dropout\n",
    "\n",
    "        \"\"\"\n",
    "        self.bs,self.emb_sz,self.n_hid,self.n_layers = 1,emb_sz,n_hid,n_layers\n",
    "        self.emb = nn.Embedding(vocab_sz, emb_sz, padding_idx=pad_token)\n",
    "        self.emb_dp = mEmbeddingDropout(self.emb, embed_p)\n",
    "        self.rnns = [nn.LSTM(emb_sz if l == 0 else n_hid, (n_hid if l != n_layers - 1 else emb_sz), 1,\n",
    "                             batch_first=True) for l in range(n_layers)]\n",
    "        self.rnns = nn.ModuleList([mWeightDropout(rnn, weight_p) for rnn in self.rnns])\n",
    "        self.emb.weight.data.uniform_(-self.initrange, self.initrange)\n",
    "        self.input_dp = VDropout(input_p)\n",
    "        self.hidden_dps = nn.ModuleList([VDropout(hidden_p) for l in range(n_layers)])\n",
    "\n",
    "    def forward(self, input):\n",
    "        bs,sl = input.size()\n",
    "        if bs!=self.bs:\n",
    "            self.bs=bs\n",
    "            self.reset()\n",
    "        raw_output = self.input_dp(self.emb_dp(input))\n",
    "        print(raw_output.shape)\n",
    "        new_hidden,raw_outputs,outputs = [],[],[]\n",
    "        for l, (rnn,hid_dp) in enumerate(zip(self.rnns, self.hidden_dps)):\n",
    "            raw_output, new_h = rnn(raw_output, self.hidden[l])\n",
    "            new_hidden.append(new_h)\n",
    "            raw_outputs.append(raw_output)\n",
    "            if l != self.n_layers - 1: raw_output = hid_dp(raw_output)\n",
    "            outputs.append(raw_output) \n",
    "        self.hidden = to_detach(new_hidden)\n",
    "        return raw_outputs, outputs\n",
    "\n",
    "    def _one_hidden(self, l):\n",
    "        \"Return one hidden state.\"\n",
    "        nh = self.n_hid if l != self.n_layers - 1 else self.emb_sz\n",
    "        return next(self.parameters()).new(1, self.bs, nh).zero_()\n",
    "\n",
    "    def reset(self):\n",
    "        \"Reset the hidden states.\"\n",
    "        self.hidden = [(self._one_hidden(l), self._one_hidden(l)) for l in range(self.n_layers)]"
   ]
  },
  {
   "cell_type": "markdown",
   "metadata": {},
   "source": [
    "We also need a decoder which takes the output of our AWD_LSTM and transform it into the prediction of the wrord"
   ]
  },
  {
   "cell_type": "code",
   "execution_count": 69,
   "metadata": {},
   "outputs": [],
   "source": [
    "class mLinearDecoder(nn.Module):\n",
    "    def __init__(self, n_out, n_hid, output_p, tie_encoder=None, bias=True):\n",
    "        super().__init__()\n",
    "        self.output_dp = VDropout(output_p)\n",
    "        self.decoder = nn.Linear(n_hid, n_out, bias=bias)\n",
    "        if bias: self.decoder.bias.data.zero_()\n",
    "        if tie_encoder: self.decoder.weight = tie_encoder.weight\n",
    "        else: init.kaiming_uniform_(self.decoder.weight)\n",
    "\n",
    "    def forward(self, input):\n",
    "        raw_outputs, outputs = input\n",
    "        output = self.output_dp(outputs[-1]).contiguous()\n",
    "        decoded = self.decoder(output.view(output.size(0)*output.size(1), output.size(2)))\n",
    "        return decoded, raw_outputs, outputs"
   ]
  },
  {
   "cell_type": "markdown",
   "metadata": {},
   "source": [
    "We can combine both of them using a sequential module "
   ]
  },
  {
   "cell_type": "code",
   "execution_count": 70,
   "metadata": {},
   "outputs": [],
   "source": [
    "class mSequentialRNN(nn.Sequential):\n",
    "    \"A sequential module that passes the reset call to its children.\"\n",
    "    def reset(self):\n",
    "        for c in self.children():\n",
    "            if hasattr(c, 'reset'): c.reset()"
   ]
  },
  {
   "cell_type": "code",
   "execution_count": 71,
   "metadata": {},
   "outputs": [],
   "source": [
    "def mget_language_model(vocab_sz, emb_sz, n_hid, n_layers, pad_token, output_p=0.4, hidden_p=0.2, input_p=0.6, \n",
    "                       embed_p=0.1, weight_p=0.5, tie_weights=True, bias=True):\n",
    "    rnn_enc = mAWD_LSTM(vocab_sz, emb_sz, n_hid=n_hid, n_layers=n_layers, pad_token=pad_token,\n",
    "                       hidden_p=hidden_p, input_p=input_p, embed_p=embed_p, weight_p=weight_p)\n",
    "    enc = rnn_enc.emb if tie_weights else None\n",
    "    return SequentialRNN(rnn_enc, mLinearDecoder(vocab_sz, emb_sz, output_p, tie_encoder=enc, bias=bias))"
   ]
  },
  {
   "cell_type": "markdown",
   "metadata": {},
   "source": [
    "Most of the code from the last couple of cells is actually already implemented in the fastai library with minor changes with the same functions/class names without the m at the beggining. For example here is the model generated from our implementation. "
   ]
  },
  {
   "cell_type": "code",
   "execution_count": 72,
   "metadata": {},
   "outputs": [
    {
     "data": {
      "text/plain": [
       "SequentialRNN(\n",
       "  (0): mAWD_LSTM(\n",
       "    (emb): Embedding(400, 20, padding_idx=399)\n",
       "    (emb_dp): mEmbeddingDropout(\n",
       "      (emb): Embedding(400, 20, padding_idx=399)\n",
       "    )\n",
       "    (rnns): ModuleList(\n",
       "      (0): mWeightDropout(\n",
       "        (module): LSTM(20, 100, batch_first=True)\n",
       "      )\n",
       "      (1): mWeightDropout(\n",
       "        (module): LSTM(100, 100, batch_first=True)\n",
       "      )\n",
       "      (2): mWeightDropout(\n",
       "        (module): LSTM(100, 20, batch_first=True)\n",
       "      )\n",
       "    )\n",
       "    (input_dp): VDropout()\n",
       "    (hidden_dps): ModuleList(\n",
       "      (0): VDropout()\n",
       "      (1): VDropout()\n",
       "      (2): VDropout()\n",
       "    )\n",
       "  )\n",
       "  (1): mLinearDecoder(\n",
       "    (output_dp): VDropout()\n",
       "    (decoder): Linear(in_features=20, out_features=400, bias=True)\n",
       "  )\n",
       ")"
      ]
     },
     "execution_count": 72,
     "metadata": {},
     "output_type": "execute_result"
    }
   ],
   "source": [
    "mget_language_model(vocab_sz=400, emb_sz=20, n_hid=100, n_layers=3, pad_token=-1)"
   ]
  },
  {
   "cell_type": "markdown",
   "metadata": {},
   "source": [
    "We can now generate the dame using fastai's get_language_model"
   ]
  },
  {
   "cell_type": "code",
   "execution_count": 73,
   "metadata": {},
   "outputs": [
    {
     "data": {
      "text/plain": [
       "SequentialRNN(\n",
       "  (0): AWD_LSTM(\n",
       "    (encoder): Embedding(400, 20, padding_idx=399)\n",
       "    (encoder_dp): EmbeddingDropout(\n",
       "      (emb): Embedding(400, 20, padding_idx=399)\n",
       "    )\n",
       "    (rnns): ModuleList(\n",
       "      (0): WeightDropout(\n",
       "        (module): LSTM(20, 100, batch_first=True)\n",
       "      )\n",
       "      (1): WeightDropout(\n",
       "        (module): LSTM(100, 100, batch_first=True)\n",
       "      )\n",
       "      (2): WeightDropout(\n",
       "        (module): LSTM(100, 20, batch_first=True)\n",
       "      )\n",
       "    )\n",
       "    (input_dp): RNNDropout()\n",
       "    (hidden_dps): ModuleList(\n",
       "      (0): RNNDropout()\n",
       "      (1): RNNDropout()\n",
       "      (2): RNNDropout()\n",
       "    )\n",
       "  )\n",
       "  (1): LinearDecoder(\n",
       "    (decoder): Linear(in_features=20, out_features=400, bias=True)\n",
       "    (output_dp): RNNDropout()\n",
       "  )\n",
       ")"
      ]
     },
     "execution_count": 73,
     "metadata": {},
     "output_type": "execute_result"
    }
   ],
   "source": [
    "configs = {'emb_sz':20, 'n_hid':100, 'n_layers':3, 'pad_token':-1, 'output_p':0.4, 'hidden_p':0.2, 'input_p':0.6, \n",
    "                       'embed_p':0.1, 'weight_p':0.5, 'tie_weights':True, 'out_bias':True}\n",
    "lm = get_language_model(AWD_LSTM, 400, configs)\n",
    "lm"
   ]
  },
  {
   "cell_type": "markdown",
   "metadata": {},
   "source": [
    "As we can see, they are both the same with only module names changing"
   ]
  },
  {
   "cell_type": "markdown",
   "metadata": {},
   "source": [
    "## Loading pretrained model"
   ]
  },
  {
   "cell_type": "code",
   "execution_count": 74,
   "metadata": {},
   "outputs": [],
   "source": [
    "def load_pretrained_lm(vocab) :    \n",
    "    lm = get_language_model(AWD_LSTM, len(vocab))\n",
    "    model_path = untar_data('https://s3.amazonaws.com/fast-ai-modelzoo/wt103-1', data=False)\n",
    "    fnames = [list(model_path.glob(f'*.{ext}'))[0] for ext in ['pth', 'pkl']]\n",
    "    old_itos = pickle.load(open(fnames[1], 'rb'))\n",
    "    old_stoi = {v:k for k,v in enumerate(old_itos)}\n",
    "    wgts = torch.load(fnames[0], map_location=lambda storage, loc: storage)\n",
    "    wgts = convert_weights(wgts, old_stoi, vocab.itos)\n",
    "    lm.load_state_dict(wgts)\n",
    "    return lm"
   ]
  },
  {
   "cell_type": "markdown",
   "metadata": {},
   "source": [
    "## Training "
   ]
  },
  {
   "cell_type": "markdown",
   "metadata": {},
   "source": [
    "### Basic fit "
   ]
  },
  {
   "cell_type": "markdown",
   "metadata": {},
   "source": [
    "Here is the basic implementation of a training loop. It takes a model, an optimizer, the training and validation datasets and the number of epochs and then trains the model. "
   ]
  },
  {
   "cell_type": "code",
   "execution_count": 75,
   "metadata": {},
   "outputs": [],
   "source": [
    "def fit(epochs, model, loss_func, opt, train_dl, valid_dl):\n",
    "    for epoch in range(epochs):\n",
    "        # Handle batchnorm / dropout\n",
    "        model.train()\n",
    "#         print(model.training)\n",
    "        for xb,yb in train_dl:\n",
    "            loss = loss_func(model(xb), yb)\n",
    "            loss.backward()\n",
    "            opt.step()\n",
    "            opt.zero_grad()\n",
    "\n",
    "        model.eval()\n",
    "#         print(model.training)\n",
    "        with torch.no_grad():\n",
    "            tot_loss,tot_acc = 0.,0.\n",
    "            for xb,yb in valid_dl:\n",
    "                pred = model(xb)\n",
    "                tot_loss += loss_func(pred, yb)\n",
    "                tot_acc  += accuracy (pred,yb)\n",
    "        nv = len(valid_dl)\n",
    "        print(epoch, tot_loss/nv, tot_acc/nv)\n",
    "    return tot_loss/nv, tot_acc/nv"
   ]
  },
  {
   "cell_type": "markdown",
   "metadata": {},
   "source": [
    "Now let us refactor a bit and create the classes:\n",
    "- Databunch : which stores the training and the validation dataloaders\n",
    "- Learner : which stores a databunch, the model, the loss function and the optimizer"
   ]
  },
  {
   "cell_type": "code",
   "execution_count": 76,
   "metadata": {},
   "outputs": [],
   "source": [
    "class Databunch() :\n",
    "    def __init__(self, train_dl, valid_dl) :\n",
    "        self.train_dl = train_dl\n",
    "        self.valid_dl = valid_dl\n",
    "    @property\n",
    "    def train_ds(self): return self.train_dl.dataset\n",
    "        \n",
    "    @property\n",
    "    def valid_ds(self): return self.valid_dl.dataset"
   ]
  },
  {
   "cell_type": "code",
   "execution_count": 77,
   "metadata": {},
   "outputs": [],
   "source": [
    "class mLearner():\n",
    "    def __init__(self, model, opt, loss_func, data):\n",
    "        self.model,self.opt,self.loss_func,self.data = model,opt,loss_func,data"
   ]
  },
  {
   "cell_type": "markdown",
   "metadata": {},
   "source": [
    "Now our fit fucntion looks like this "
   ]
  },
  {
   "cell_type": "code",
   "execution_count": 78,
   "metadata": {},
   "outputs": [],
   "source": [
    "def fit(epochs, learn):\n",
    "    for epoch in range(epochs):\n",
    "        learn.model.train()\n",
    "        for xb,yb in learn.data.train_dl:\n",
    "            loss = learn.loss_func(learn.model(xb), yb)\n",
    "            loss.backward()\n",
    "            learn.opt.step()\n",
    "            learn.opt.zero_grad()\n",
    "\n",
    "        learn.model.eval()\n",
    "        with torch.no_grad():\n",
    "            tot_loss,tot_acc = 0.,0.\n",
    "            for xb,yb in learn.data.valid_dl:\n",
    "                pred = learn.model(xb)\n",
    "                tot_loss += learn.loss_func(pred, yb)\n",
    "                tot_acc  += accuracy (pred,yb)\n",
    "        nv = len(learn.data.valid_dl)\n",
    "        print(epoch, tot_loss/nv, tot_acc/nv)\n",
    "    return tot_loss/nv, tot_acc/nv"
   ]
  },
  {
   "cell_type": "code",
   "execution_count": 79,
   "metadata": {},
   "outputs": [],
   "source": [
    "from torchtext import *\n",
    "from fastai import *\n",
    "import torch\n",
    "from fastai.text import *\n",
    "from torchtext.datasets import Multi30k, LanguageModelingDataset\n",
    "from models import *\n",
    "from torchtext.data import *\n",
    "from tqdm import tqdm, trange"
   ]
  },
  {
   "cell_type": "code",
   "execution_count": 80,
   "metadata": {},
   "outputs": [],
   "source": [
    "def fit(epochs, learn, cuda=True, show_info=True, record = True):\n",
    "    \n",
    "    if record:\n",
    "        train_losses = []\n",
    "        val_losses =[]\n",
    "        train_accs = []\n",
    "        valid_accs =[]\n",
    "    if cuda :\n",
    "        learn.model.cuda()\n",
    "    #Start the epoch\n",
    "    for epoch in range(epochs):\n",
    "        #if needed, put model on gpu\n",
    "        learn.model.reset()\n",
    "\n",
    "        \n",
    "        train_size = len(learn.data.train_dl)\n",
    "        valid_size = len(learn.data.valid_dl)\n",
    "        train_loss, valid_loss, train_acc, valid_acc = 0, 0, 0, 0\n",
    "\n",
    "        #puts the model on training mode (activates dropout)\n",
    "        \n",
    "        learn.model.train()\n",
    "        batches = tqdm(learn.data.train_dl, leave=False,\n",
    "                        total=len(learn.data.train_dl), desc=f'Epoch {epoch} training')\n",
    "\n",
    "        #starts sgd for each batches\n",
    "        for batch in batches:\n",
    "\n",
    "            #forward pass\n",
    "            xb = batch.text.t().cuda()\n",
    "            yb = batch.target.t().cuda()\n",
    "            pred = learn.model(xb)[0]\n",
    "            loss = learn.loss_func(pred, yb)\n",
    "\n",
    "            train_loss += loss\n",
    "            train_acc += (torch.argmax(pred, dim=2) == yb).type(torch.FloatTensor).mean() \n",
    "\n",
    "            # compute gradients and updtape parameters\n",
    "            loss.backward()\n",
    "            learn.opt.step()\n",
    "            learn.opt.zero_grad()\n",
    "\n",
    "        train_loss = train_loss/train_size\n",
    "        train_acc = train_acc/train_size\n",
    "        \n",
    "\n",
    "        # putting the model in eval mode so that dropout is not applied\n",
    "        learn.model.eval()\n",
    "        with torch.no_grad():\n",
    "            batches = tqdm(learn.data.valid_dl, leave=False,\n",
    "                     total=len(learn.data.valid_dl), desc=f'Epoch {epoch} validation')\n",
    "            for batch in batches:\n",
    "                xb = batch.text.t().cuda()\n",
    "                yb = batch.target.t().cuda()\n",
    "                pred = learn.model(xb)[0]\n",
    "                loss = learn.loss_func(pred, yb)\n",
    "\n",
    "                valid_loss += loss\n",
    "                valid_acc += (torch.argmax(pred, dim=2) == yb).type(torch.FloatTensor).mean() \n",
    "                \n",
    "        valid_loss = valid_loss/valid_size\n",
    "        valid_acc = valid_acc/valid_size\n",
    "        \n",
    "        if show_info :\n",
    "            print(\"Epoch {:.0f} training loss : {:.3f}, train accuracy : {:.3f}, validation loss : {:.3f}, valid accuracy : {:.3f}\".format(epoch, train_loss, train_acc, valid_loss, valid_acc))\n",
    "        if record :\n",
    "            val_losses.append(valid_loss)\n",
    "            train_losses.append(train_loss)\n",
    "            train_accs.append(train_acc)\n",
    "            valid_accs.append(valid_acc)\n",
    "    \n",
    "    if record :\n",
    "        return {'train_loss' : train_losses, 'valid_loss' : val_losses, 'train_acc': train_acc, 'valid_acc' : valid_acc}"
   ]
  },
  {
   "cell_type": "markdown",
   "metadata": {},
   "source": [
    "- Gradiant clipping\n",
    "- Activation regularization (AR)\n",
    "- Temporal activation regularization (TAR)\n",
    "- discriminative learning rate \n",
    "- slanted triangular learning rates"
   ]
  },
  {
   "cell_type": "code",
   "execution_count": 81,
   "metadata": {},
   "outputs": [],
   "source": [
    "def fit_awd_lstm(epochs, learn, cuda=True, show_info=True, grad_clip=0.1, alpha=2., beta=1., record=True, one_cycle=True):\n",
    "    \n",
    "    if record:\n",
    "        train_losses = []\n",
    "        val_losses =[]\n",
    "        train_accs = []\n",
    "        valid_accs =[]\n",
    "    #Start the epoch\n",
    "    for epoch in range(epochs):\n",
    "        #if needed, put model on gpu\n",
    "        if cuda :\n",
    "            learn.model.cuda()\n",
    "        train_size = len(learn.data.train_dl)\n",
    "        valid_size = len(learn.data.valid_dl)\n",
    "        train_loss, valid_loss, train_acc, valid_acc = 0, 0, 0, 0\n",
    "\n",
    "        #puts the model on training mode (activates dropout)\n",
    "        \n",
    "        learn.model.train()\n",
    "        \n",
    "            \n",
    "\n",
    "        batches = tqdm(learn.data.train_dl, leave=False,\n",
    "                        total=len(learn.data.train_dl), desc=f'Epoch {epoch} training')\n",
    "\n",
    "        #starts sgd for each batches\n",
    "        for batch in batches:\n",
    "\n",
    "            #forward pass\n",
    "            xb = batch.text.t().cuda()\n",
    "            yb = batch.target.t().cuda()\n",
    "            pred, raw_out, out = learn.model(xb)\n",
    "            loss = learn.loss_func(pred, yb)\n",
    "            #activation regularization \n",
    "            if alpha != 0.:  loss += alpha * out[-1].float().pow(2).mean()\n",
    "            #temporal activation regularization \n",
    "            if beta != 0.:\n",
    "                h = raw_out[-1]\n",
    "                if len(h)>1: loss += beta * (h[:,1:] - h[:,:-1]).float().pow(2).mean()\n",
    "            \n",
    "            train_loss += loss\n",
    "            train_acc += (torch.argmax(pred, dim=2) == yb).type(torch.FloatTensor).mean() \n",
    "\n",
    "            # compute gradients and updtape parameters\n",
    "            loss.backward()\n",
    "            if grad_clip:  nn.utils.clip_grad_norm_(learn.model.parameters(), grad_clip)\n",
    "            learn.opt.step()\n",
    "            learn.opt.zero_grad()\n",
    "\n",
    "        train_loss = train_loss/train_size\n",
    "        train_acc = train_acc/train_size\n",
    "        \n",
    "\n",
    "        # putting the model in eval mode so that dropout is not applied\n",
    "        learn.model.eval()\n",
    "        with torch.no_grad():\n",
    "            batches = tqdm(learn.data.valid_dl, leave=False,\n",
    "                     total=len(learn.data.valid_dl), desc=f'Epoch {epoch} validation')\n",
    "            for batch in batches:\n",
    "                xb = batch.text.t().cuda()\n",
    "                yb = batch.target.t().cuda()\n",
    "                pred = learn.model(xb)[0]\n",
    "                loss = learn.loss_func(pred, yb)\n",
    "\n",
    "                valid_loss += loss\n",
    "                valid_acc += (torch.argmax(pred, dim=2) == yb).type(torch.FloatTensor).mean() \n",
    "                \n",
    "        valid_loss = valid_loss/valid_size\n",
    "        valid_acc = valid_acc/valid_size\n",
    "        \n",
    "        if show_info :\n",
    "            print(\"Epoch {:.0f} training loss : {:.3f}, train accuracy : {:.3f}, validation loss : {:.3f}, valid accuracy : {:.3f}\".format(epoch, train_loss, train_acc, valid_loss, valid_acc))\n",
    "        if record :\n",
    "            val_losses.append(valid_loss)\n",
    "            train_losses.append(train_loss)\n",
    "            train_accs.append(train_acc)\n",
    "            valid_accs.append(valid_acc)\n",
    "    \n",
    "    if record :\n",
    "        return {'train_loss' : train_losses, 'valid_loss' : val_losses, 'train_acc': train_acc, 'valid_acc' : valid_acc}    "
   ]
  },
  {
   "cell_type": "code",
   "execution_count": 41,
   "metadata": {},
   "outputs": [],
   "source": [
    "def lr_find(learn, start_lr=1e-7, end=10, num_it=100, beta=0.9) :\n",
    "    iteration = 0\n",
    "    best_loss = 0\n",
    "    losses = []\n",
    "    lrs = []\n",
    "    learn.model.cuda()\n",
    "    sm = Smooth\n",
    "    for batch in learn.data.train_dl :\n",
    "        print(iteration)\n",
    "        new_lr = annealing_exp(start_lr, end, iteration/num_it)\n",
    "        for p in learn.opt.param_groups :\n",
    "            p['lr'] = new_lr\n",
    "        \n",
    "        xb = batch.text.t().cuda()\n",
    "        yb = batch.target.t().cuda()\n",
    "        pred = learn.model(xb)[0]\n",
    "        loss = learn.loss_func(pred, yb)\n",
    "        \n",
    "        losses.append(loss)\n",
    "        lrs.append(new_lr)\n",
    "        \n",
    "        \n",
    "        if iteration==0 or loss < best_loss: best_loss = loss\n",
    "        if iteration > num_it or (loss > 4*best_loss or torch.isnan(loss)):\n",
    "            break\n",
    "        iteration+=1\n",
    "\n",
    "    return losses, lrs\n"
   ]
  },
  {
   "cell_type": "code",
   "execution_count": 82,
   "metadata": {},
   "outputs": [],
   "source": [
    "lm = get_language_model(AWD_LSTM, len(vocabbb))\n",
    "lm_pretrained = load_pretrained_lm(vocabbb)"
   ]
  },
  {
   "cell_type": "code",
   "execution_count": 83,
   "metadata": {},
   "outputs": [],
   "source": [
    "lr = 0.01\n",
    "\n",
    "opt = torch.optim.Adam(lm.parameters(), lr=lr)\n",
    "opt_pretrained = torch.optim.Adam(lm_pretrained.parameters(), lr=lr)\n",
    "\n",
    "data = Databunch(train_it, valid_it)\n",
    "loss_func = CrossEntropyFlat()\n",
    "\n",
    "learner = mLearner(lm, opt, loss_func, data)\n",
    "learner_pretrained = mLearner(lm_pretrained, opt_pretrained, loss_func, data)"
   ]
  },
  {
   "cell_type": "code",
   "execution_count": 85,
   "metadata": {},
   "outputs": [
    {
     "name": "stderr",
     "output_type": "stream",
     "text": [
      "Epoch 0 training:  15%|█▍        | 16/109 [00:02<00:14,  6.24it/s]"
     ]
    },
    {
     "ename": "KeyboardInterrupt",
     "evalue": "",
     "output_type": "error",
     "traceback": [
      "\u001b[0;31m---------------------------------------------------------------------------\u001b[0m",
      "\u001b[0;31mKeyboardInterrupt\u001b[0m                         Traceback (most recent call last)",
      "\u001b[0;32m<ipython-input-85-a383daf10717>\u001b[0m in \u001b[0;36m<module>\u001b[0;34m\u001b[0m\n\u001b[0;32m----> 1\u001b[0;31m \u001b[0mfit_awd_lstm\u001b[0m\u001b[0;34m(\u001b[0m\u001b[0;36m10\u001b[0m\u001b[0;34m,\u001b[0m \u001b[0mlearner_pretrained\u001b[0m\u001b[0;34m)\u001b[0m\u001b[0;34m\u001b[0m\u001b[0;34m\u001b[0m\u001b[0m\n\u001b[0m",
      "\u001b[0;32m<ipython-input-81-ba125ed8b449>\u001b[0m in \u001b[0;36mfit_awd_lstm\u001b[0;34m(epochs, learn, cuda, show_info, grad_clip, alpha, beta, record, one_cycle)\u001b[0m\n\u001b[1;32m     43\u001b[0m \u001b[0;34m\u001b[0m\u001b[0m\n\u001b[1;32m     44\u001b[0m             \u001b[0;31m# compute gradients and updtape parameters\u001b[0m\u001b[0;34m\u001b[0m\u001b[0;34m\u001b[0m\u001b[0;34m\u001b[0m\u001b[0m\n\u001b[0;32m---> 45\u001b[0;31m             \u001b[0mloss\u001b[0m\u001b[0;34m.\u001b[0m\u001b[0mbackward\u001b[0m\u001b[0;34m(\u001b[0m\u001b[0;34m)\u001b[0m\u001b[0;34m\u001b[0m\u001b[0;34m\u001b[0m\u001b[0m\n\u001b[0m\u001b[1;32m     46\u001b[0m             \u001b[0;32mif\u001b[0m \u001b[0mgrad_clip\u001b[0m\u001b[0;34m:\u001b[0m  \u001b[0mnn\u001b[0m\u001b[0;34m.\u001b[0m\u001b[0mutils\u001b[0m\u001b[0;34m.\u001b[0m\u001b[0mclip_grad_norm_\u001b[0m\u001b[0;34m(\u001b[0m\u001b[0mlearn\u001b[0m\u001b[0;34m.\u001b[0m\u001b[0mmodel\u001b[0m\u001b[0;34m.\u001b[0m\u001b[0mparameters\u001b[0m\u001b[0;34m(\u001b[0m\u001b[0;34m)\u001b[0m\u001b[0;34m,\u001b[0m \u001b[0mgrad_clip\u001b[0m\u001b[0;34m)\u001b[0m\u001b[0;34m\u001b[0m\u001b[0;34m\u001b[0m\u001b[0m\n\u001b[1;32m     47\u001b[0m             \u001b[0mlearn\u001b[0m\u001b[0;34m.\u001b[0m\u001b[0mopt\u001b[0m\u001b[0;34m.\u001b[0m\u001b[0mstep\u001b[0m\u001b[0;34m(\u001b[0m\u001b[0;34m)\u001b[0m\u001b[0;34m\u001b[0m\u001b[0;34m\u001b[0m\u001b[0m\n",
      "\u001b[0;32m~/anaconda3/envs/zarr/lib/python3.7/site-packages/torch/tensor.py\u001b[0m in \u001b[0;36mbackward\u001b[0;34m(self, gradient, retain_graph, create_graph)\u001b[0m\n\u001b[1;32m    105\u001b[0m                 \u001b[0mproducts\u001b[0m\u001b[0;34m.\u001b[0m \u001b[0mDefaults\u001b[0m \u001b[0mto\u001b[0m\u001b[0;31m \u001b[0m\u001b[0;31m`\u001b[0m\u001b[0;31m`\u001b[0m\u001b[0;32mFalse\u001b[0m\u001b[0;31m`\u001b[0m\u001b[0;31m`\u001b[0m\u001b[0;34m.\u001b[0m\u001b[0;34m\u001b[0m\u001b[0;34m\u001b[0m\u001b[0m\n\u001b[1;32m    106\u001b[0m         \"\"\"\n\u001b[0;32m--> 107\u001b[0;31m         \u001b[0mtorch\u001b[0m\u001b[0;34m.\u001b[0m\u001b[0mautograd\u001b[0m\u001b[0;34m.\u001b[0m\u001b[0mbackward\u001b[0m\u001b[0;34m(\u001b[0m\u001b[0mself\u001b[0m\u001b[0;34m,\u001b[0m \u001b[0mgradient\u001b[0m\u001b[0;34m,\u001b[0m \u001b[0mretain_graph\u001b[0m\u001b[0;34m,\u001b[0m \u001b[0mcreate_graph\u001b[0m\u001b[0;34m)\u001b[0m\u001b[0;34m\u001b[0m\u001b[0;34m\u001b[0m\u001b[0m\n\u001b[0m\u001b[1;32m    108\u001b[0m \u001b[0;34m\u001b[0m\u001b[0m\n\u001b[1;32m    109\u001b[0m     \u001b[0;32mdef\u001b[0m \u001b[0mregister_hook\u001b[0m\u001b[0;34m(\u001b[0m\u001b[0mself\u001b[0m\u001b[0;34m,\u001b[0m \u001b[0mhook\u001b[0m\u001b[0;34m)\u001b[0m\u001b[0;34m:\u001b[0m\u001b[0;34m\u001b[0m\u001b[0;34m\u001b[0m\u001b[0m\n",
      "\u001b[0;32m~/anaconda3/envs/zarr/lib/python3.7/site-packages/torch/autograd/__init__.py\u001b[0m in \u001b[0;36mbackward\u001b[0;34m(tensors, grad_tensors, retain_graph, create_graph, grad_variables)\u001b[0m\n\u001b[1;32m     91\u001b[0m     Variable._execution_engine.run_backward(\n\u001b[1;32m     92\u001b[0m         \u001b[0mtensors\u001b[0m\u001b[0;34m,\u001b[0m \u001b[0mgrad_tensors\u001b[0m\u001b[0;34m,\u001b[0m \u001b[0mretain_graph\u001b[0m\u001b[0;34m,\u001b[0m \u001b[0mcreate_graph\u001b[0m\u001b[0;34m,\u001b[0m\u001b[0;34m\u001b[0m\u001b[0;34m\u001b[0m\u001b[0m\n\u001b[0;32m---> 93\u001b[0;31m         allow_unreachable=True)  # allow_unreachable flag\n\u001b[0m\u001b[1;32m     94\u001b[0m \u001b[0;34m\u001b[0m\u001b[0m\n\u001b[1;32m     95\u001b[0m \u001b[0;34m\u001b[0m\u001b[0m\n",
      "\u001b[0;31mKeyboardInterrupt\u001b[0m: "
     ]
    }
   ],
   "source": [
    "fit_awd_lstm(10, learner_pretrained)"
   ]
  },
  {
   "cell_type": "markdown",
   "metadata": {},
   "source": [
    "## TESTS "
   ]
  },
  {
   "cell_type": "code",
   "execution_count": 48,
   "metadata": {},
   "outputs": [],
   "source": [
    "def compare_on_epochs(epochs, learners, names) :\n",
    "    info = {}\n",
    "    for l, n in zip(learners, names) :\n",
    "        info[n] = fit(epochs, l)\n",
    "    return info        "
   ]
  },
  {
   "cell_type": "code",
   "execution_count": 52,
   "metadata": {
    "scrolled": true
   },
   "outputs": [
    {
     "name": "stderr",
     "output_type": "stream",
     "text": [
      "Epoch 1 training:   1%|          | 1/109 [00:00<00:20,  5.38it/s]  "
     ]
    },
    {
     "name": "stdout",
     "output_type": "stream",
     "text": [
      "Epoch 0 training loss : 7.402, train accuracy : 0.051, validation loss : 7.626, valid accuracy : 0.053\n"
     ]
    },
    {
     "name": "stderr",
     "output_type": "stream",
     "text": [
      "Epoch 2 training:   1%|          | 1/109 [00:00<00:20,  5.39it/s]  "
     ]
    },
    {
     "name": "stdout",
     "output_type": "stream",
     "text": [
      "Epoch 1 training loss : 7.470, train accuracy : 0.052, validation loss : 7.623, valid accuracy : 0.053\n"
     ]
    },
    {
     "name": "stderr",
     "output_type": "stream",
     "text": [
      "Epoch 3 training:   1%|          | 1/109 [00:00<00:20,  5.37it/s]  "
     ]
    },
    {
     "name": "stdout",
     "output_type": "stream",
     "text": [
      "Epoch 2 training loss : 7.464, train accuracy : 0.051, validation loss : 7.635, valid accuracy : 0.053\n"
     ]
    },
    {
     "name": "stderr",
     "output_type": "stream",
     "text": [
      "Epoch 4 training:   1%|          | 1/109 [00:00<00:20,  5.36it/s]  "
     ]
    },
    {
     "name": "stdout",
     "output_type": "stream",
     "text": [
      "Epoch 3 training loss : 7.095, train accuracy : 0.052, validation loss : 7.014, valid accuracy : 0.053\n"
     ]
    },
    {
     "name": "stderr",
     "output_type": "stream",
     "text": [
      "Epoch 5 training:   1%|          | 1/109 [00:00<00:20,  5.32it/s]  "
     ]
    },
    {
     "name": "stdout",
     "output_type": "stream",
     "text": [
      "Epoch 4 training loss : 6.961, train accuracy : 0.052, validation loss : 7.111, valid accuracy : 0.053\n"
     ]
    },
    {
     "name": "stderr",
     "output_type": "stream",
     "text": [
      "Epoch 6 training:   1%|          | 1/109 [00:00<00:20,  5.33it/s]  "
     ]
    },
    {
     "name": "stdout",
     "output_type": "stream",
     "text": [
      "Epoch 5 training loss : 7.025, train accuracy : 0.051, validation loss : 7.364, valid accuracy : 0.053\n"
     ]
    },
    {
     "name": "stderr",
     "output_type": "stream",
     "text": [
      "Epoch 7 training:   1%|          | 1/109 [00:00<00:21,  5.12it/s]  "
     ]
    },
    {
     "name": "stdout",
     "output_type": "stream",
     "text": [
      "Epoch 6 training loss : 7.015, train accuracy : 0.052, validation loss : 7.372, valid accuracy : 0.053\n"
     ]
    },
    {
     "name": "stderr",
     "output_type": "stream",
     "text": [
      "Epoch 8 training:   1%|          | 1/109 [00:00<00:19,  5.44it/s]  "
     ]
    },
    {
     "name": "stdout",
     "output_type": "stream",
     "text": [
      "Epoch 7 training loss : 6.979, train accuracy : 0.052, validation loss : 7.375, valid accuracy : 0.053\n"
     ]
    },
    {
     "name": "stderr",
     "output_type": "stream",
     "text": [
      "Epoch 9 training:   1%|          | 1/109 [00:00<00:19,  5.47it/s]  "
     ]
    },
    {
     "name": "stdout",
     "output_type": "stream",
     "text": [
      "Epoch 8 training loss : 6.941, train accuracy : 0.052, validation loss : 7.372, valid accuracy : 0.053\n"
     ]
    },
    {
     "name": "stderr",
     "output_type": "stream",
     "text": [
      "Epoch 0 training:   0%|          | 0/109 [00:00<?, ?it/s]          "
     ]
    },
    {
     "name": "stdout",
     "output_type": "stream",
     "text": [
      "Epoch 9 training loss : 6.925, train accuracy : 0.052, validation loss : 7.385, valid accuracy : 0.053\n"
     ]
    },
    {
     "name": "stderr",
     "output_type": "stream",
     "text": [
      "Epoch 1 training:   1%|          | 1/109 [00:00<00:20,  5.34it/s]  "
     ]
    },
    {
     "name": "stdout",
     "output_type": "stream",
     "text": [
      "Epoch 0 training loss : 6.167, train accuracy : 0.141, validation loss : 5.445, valid accuracy : 0.202\n"
     ]
    },
    {
     "name": "stderr",
     "output_type": "stream",
     "text": [
      "Epoch 2 training:   1%|          | 1/109 [00:00<00:19,  5.47it/s]  "
     ]
    },
    {
     "name": "stdout",
     "output_type": "stream",
     "text": [
      "Epoch 1 training loss : 5.119, train accuracy : 0.216, validation loss : 5.343, valid accuracy : 0.214\n"
     ]
    },
    {
     "name": "stderr",
     "output_type": "stream",
     "text": [
      "Epoch 3 training:   1%|          | 1/109 [00:00<00:20,  5.35it/s]  "
     ]
    },
    {
     "name": "stdout",
     "output_type": "stream",
     "text": [
      "Epoch 2 training loss : 4.747, train accuracy : 0.238, validation loss : 5.342, valid accuracy : 0.221\n"
     ]
    },
    {
     "name": "stderr",
     "output_type": "stream",
     "text": [
      "Epoch 4 training:   1%|          | 1/109 [00:00<00:20,  5.36it/s]  "
     ]
    },
    {
     "name": "stdout",
     "output_type": "stream",
     "text": [
      "Epoch 3 training loss : 4.477, train accuracy : 0.254, validation loss : 5.390, valid accuracy : 0.226\n"
     ]
    },
    {
     "name": "stderr",
     "output_type": "stream",
     "text": [
      "Epoch 5 training:   1%|          | 1/109 [00:00<00:20,  5.23it/s]  "
     ]
    },
    {
     "name": "stdout",
     "output_type": "stream",
     "text": [
      "Epoch 4 training loss : 4.286, train accuracy : 0.265, validation loss : 5.482, valid accuracy : 0.224\n"
     ]
    },
    {
     "name": "stderr",
     "output_type": "stream",
     "text": [
      "Epoch 6 training:   1%|          | 1/109 [00:00<00:20,  5.21it/s]  "
     ]
    },
    {
     "name": "stdout",
     "output_type": "stream",
     "text": [
      "Epoch 5 training loss : 4.135, train accuracy : 0.272, validation loss : 5.527, valid accuracy : 0.225\n"
     ]
    },
    {
     "name": "stderr",
     "output_type": "stream",
     "text": [
      "Epoch 7 training:   1%|          | 1/109 [00:00<00:19,  5.52it/s]  "
     ]
    },
    {
     "name": "stdout",
     "output_type": "stream",
     "text": [
      "Epoch 6 training loss : 3.985, train accuracy : 0.283, validation loss : 5.620, valid accuracy : 0.226\n"
     ]
    },
    {
     "name": "stderr",
     "output_type": "stream",
     "text": [
      "Epoch 8 training:   1%|          | 1/109 [00:00<00:19,  5.61it/s]  "
     ]
    },
    {
     "name": "stdout",
     "output_type": "stream",
     "text": [
      "Epoch 7 training loss : 3.891, train accuracy : 0.288, validation loss : 5.662, valid accuracy : 0.228\n"
     ]
    },
    {
     "name": "stderr",
     "output_type": "stream",
     "text": [
      "Epoch 9 training:   1%|          | 1/109 [00:00<00:19,  5.61it/s]  "
     ]
    },
    {
     "name": "stdout",
     "output_type": "stream",
     "text": [
      "Epoch 8 training loss : 3.781, train accuracy : 0.298, validation loss : 5.709, valid accuracy : 0.227\n"
     ]
    },
    {
     "name": "stderr",
     "output_type": "stream",
     "text": [
      "                                                                   "
     ]
    },
    {
     "name": "stdout",
     "output_type": "stream",
     "text": [
      "Epoch 9 training loss : 3.687, train accuracy : 0.305, validation loss : 5.721, valid accuracy : 0.225\n"
     ]
    },
    {
     "name": "stderr",
     "output_type": "stream",
     "text": [
      "\r"
     ]
    }
   ],
   "source": [
    "info = compare_on_epochs(10, [learner, learner_pretrained], ['classic', 'pretrained'])"
   ]
  },
  {
   "cell_type": "code",
   "execution_count": 54,
   "metadata": {},
   "outputs": [],
   "source": [
    "import pickle"
   ]
  },
  {
   "cell_type": "code",
   "execution_count": 15,
   "metadata": {},
   "outputs": [],
   "source": [
    "with open('data/info.pkl', 'rb') as f :\n",
    "    info = pickle.load(f)"
   ]
  },
  {
   "cell_type": "code",
   "execution_count": 16,
   "metadata": {},
   "outputs": [
    {
     "data": {
      "text/plain": [
       "{'classic': {'train_loss': [tensor(7.4020, device='cuda:0', requires_grad=True),\n",
       "   tensor(7.4696, device='cuda:0', requires_grad=True),\n",
       "   tensor(7.4640, device='cuda:0', requires_grad=True),\n",
       "   tensor(7.0947, device='cuda:0', requires_grad=True),\n",
       "   tensor(6.9615, device='cuda:0', requires_grad=True),\n",
       "   tensor(7.0248, device='cuda:0', requires_grad=True),\n",
       "   tensor(7.0152, device='cuda:0', requires_grad=True),\n",
       "   tensor(6.9788, device='cuda:0', requires_grad=True),\n",
       "   tensor(6.9412, device='cuda:0', requires_grad=True),\n",
       "   tensor(6.9246, device='cuda:0', requires_grad=True)],\n",
       "  'valid_loss': [tensor(7.6262, device='cuda:0'),\n",
       "   tensor(7.6228, device='cuda:0'),\n",
       "   tensor(7.6352, device='cuda:0'),\n",
       "   tensor(7.0138, device='cuda:0'),\n",
       "   tensor(7.1111, device='cuda:0'),\n",
       "   tensor(7.3640, device='cuda:0'),\n",
       "   tensor(7.3716, device='cuda:0'),\n",
       "   tensor(7.3751, device='cuda:0'),\n",
       "   tensor(7.3720, device='cuda:0'),\n",
       "   tensor(7.3855, device='cuda:0')],\n",
       "  'train_acc': tensor(0.0525),\n",
       "  'valid_acc': tensor(0.0533)},\n",
       " 'pretrained': {'train_loss': [tensor(6.1668, device='cuda:0', requires_grad=True),\n",
       "   tensor(5.1195, device='cuda:0', requires_grad=True),\n",
       "   tensor(4.7474, device='cuda:0', requires_grad=True),\n",
       "   tensor(4.4774, device='cuda:0', requires_grad=True),\n",
       "   tensor(4.2861, device='cuda:0', requires_grad=True),\n",
       "   tensor(4.1352, device='cuda:0', requires_grad=True),\n",
       "   tensor(3.9849, device='cuda:0', requires_grad=True),\n",
       "   tensor(3.8911, device='cuda:0', requires_grad=True),\n",
       "   tensor(3.7813, device='cuda:0', requires_grad=True),\n",
       "   tensor(3.6872, device='cuda:0', requires_grad=True)],\n",
       "  'valid_loss': [tensor(5.4450, device='cuda:0'),\n",
       "   tensor(5.3431, device='cuda:0'),\n",
       "   tensor(5.3418, device='cuda:0'),\n",
       "   tensor(5.3896, device='cuda:0'),\n",
       "   tensor(5.4820, device='cuda:0'),\n",
       "   tensor(5.5267, device='cuda:0'),\n",
       "   tensor(5.6205, device='cuda:0'),\n",
       "   tensor(5.6617, device='cuda:0'),\n",
       "   tensor(5.7094, device='cuda:0'),\n",
       "   tensor(5.7205, device='cuda:0')],\n",
       "  'train_acc': tensor(0.3046),\n",
       "  'valid_acc': tensor(0.2246)}}"
      ]
     },
     "execution_count": 16,
     "metadata": {},
     "output_type": "execute_result"
    }
   ],
   "source": [
    "info"
   ]
  },
  {
   "cell_type": "code",
   "execution_count": null,
   "metadata": {},
   "outputs": [],
   "source": [
    "plt.figure(figsize=(10,10))\n",
    "fig = plt.subplot(2, 2)\n",
    "ax[0].plot(range(10), [i.item() for i in info['classic']['valid_loss']])"
   ]
  },
  {
   "cell_type": "code",
   "execution_count": 43,
   "metadata": {},
   "outputs": [],
   "source": [
    "def plot_info(info) :\n",
    "    fig, ax = plt.subplots(2, figsize=(10,10))\n",
    "    metrics = ['train_loss', 'valid_loss']\n",
    "    for i, m in enumerate(metrics) :\n",
    "        for learner in info :\n",
    "            ax[i].plot(range(10), [t.item() for t in info[learner][m]], label=learner)\n",
    "        ax[i].set_title(m)\n",
    "        ax[i].legend()\n",
    "    fig.tight_layout()"
   ]
  },
  {
   "cell_type": "code",
   "execution_count": 44,
   "metadata": {},
   "outputs": [
    {
     "data": {
      "image/png": "[encoded data removed]",
      "text/plain": [
       "<Figure size 720x720 with 2 Axes>"
      ]
     },
     "metadata": {
      "needs_background": "light"
     },
     "output_type": "display_data"
    }
   ],
   "source": [
    "plot_info(info)\n"
   ]
  },
  {
   "cell_type": "code",
   "execution_count": null,
   "metadata": {},
   "outputs": [],
   "source": []
  }
 ],
 "metadata": {
  "kernelspec": {
   "display_name": "Python 3",
   "language": "python",
   "name": "python3"
  },
  "language_info": {
   "codemirror_mode": {
    "name": "ipython",
    "version": 3
   },
   "file_extension": ".py",
   "mimetype": "text/x-python",
   "name": "python",
   "nbconvert_exporter": "python",
   "pygments_lexer": "ipython3",
   "version": "3.7.2"
  }
 },
 "nbformat": 4,
 "nbformat_minor": 2
}
